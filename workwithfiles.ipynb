{
 "cells": [
  {
   "cell_type": "code",
   "execution_count": 93,
   "metadata": {},
   "outputs": [],
   "source": [
    "import os\n",
    "import sys\n",
    "import csv\n",
    "import requests\n",
    "from collections import Counter\n",
    "from datetime import date\n",
    "from ast import literal_eval\n",
    "import numpy as np\n",
    "import pandas as pd\n",
    "import matplotlib.pyplot as plt\n",
    "\n",
    "%matplotlib inline\n",
    "\n",
    "##from logger import update_predict_log, update_train_log\n",
    "from dataingestion import fetch_data,engineer_features\n"
   ]
  },
  {
   "cell_type": "code",
   "execution_count": 78,
   "metadata": {},
   "outputs": [],
   "source": [
    "data_dir = '/Users/JitendraBojja/Downloads/Capstone_Project_JB/data_dir'"
   ]
  },
  {
   "cell_type": "code",
   "execution_count": 4,
   "metadata": {},
   "outputs": [],
   "source": [
    "from model2 import model_train,model_predict,model_load"
   ]
  },
  {
   "cell_type": "code",
   "execution_count": 80,
   "metadata": {},
   "outputs": [
    {
     "name": "stdout",
     "output_type": "stream",
     "text": [
      "... loading ts data from files\n"
     ]
    },
    {
     "name": "stderr",
     "output_type": "stream",
     "text": [
      "C:\\Users\\JitendraBojja\\anaconda3\\lib\\site-packages\\sklearn\\model_selection\\_search.py:823: FutureWarning: The parameter 'iid' is deprecated in 0.22 and will be removed in 0.24.\n",
      "  \"removed in 0.24.\", FutureWarning\n",
      "C:\\Users\\JitendraBojja\\anaconda3\\lib\\site-packages\\sklearn\\model_selection\\_search.py:823: FutureWarning: The parameter 'iid' is deprecated in 0.22 and will be removed in 0.24.\n",
      "  \"removed in 0.24.\", FutureWarning\n"
     ]
    },
    {
     "name": "stdout",
     "output_type": "stream",
     "text": [
      "... saving model: models\\sl-all-0_1.joblib\n"
     ]
    },
    {
     "name": "stderr",
     "output_type": "stream",
     "text": [
      "C:\\Users\\JitendraBojja\\anaconda3\\lib\\site-packages\\sklearn\\model_selection\\_search.py:823: FutureWarning: The parameter 'iid' is deprecated in 0.22 and will be removed in 0.24.\n",
      "  \"removed in 0.24.\", FutureWarning\n",
      "C:\\Users\\JitendraBojja\\anaconda3\\lib\\site-packages\\sklearn\\model_selection\\_search.py:823: FutureWarning: The parameter 'iid' is deprecated in 0.22 and will be removed in 0.24.\n",
      "  \"removed in 0.24.\", FutureWarning\n"
     ]
    },
    {
     "name": "stdout",
     "output_type": "stream",
     "text": [
      "... saving model: models\\sl-eire-0_1.joblib\n"
     ]
    },
    {
     "name": "stderr",
     "output_type": "stream",
     "text": [
      "C:\\Users\\JitendraBojja\\anaconda3\\lib\\site-packages\\sklearn\\model_selection\\_search.py:823: FutureWarning: The parameter 'iid' is deprecated in 0.22 and will be removed in 0.24.\n",
      "  \"removed in 0.24.\", FutureWarning\n",
      "C:\\Users\\JitendraBojja\\anaconda3\\lib\\site-packages\\sklearn\\model_selection\\_search.py:823: FutureWarning: The parameter 'iid' is deprecated in 0.22 and will be removed in 0.24.\n",
      "  \"removed in 0.24.\", FutureWarning\n"
     ]
    },
    {
     "name": "stdout",
     "output_type": "stream",
     "text": [
      "... saving model: models\\sl-france-0_1.joblib\n"
     ]
    },
    {
     "name": "stderr",
     "output_type": "stream",
     "text": [
      "C:\\Users\\JitendraBojja\\anaconda3\\lib\\site-packages\\sklearn\\model_selection\\_search.py:823: FutureWarning: The parameter 'iid' is deprecated in 0.22 and will be removed in 0.24.\n",
      "  \"removed in 0.24.\", FutureWarning\n",
      "C:\\Users\\JitendraBojja\\anaconda3\\lib\\site-packages\\sklearn\\model_selection\\_search.py:823: FutureWarning: The parameter 'iid' is deprecated in 0.22 and will be removed in 0.24.\n",
      "  \"removed in 0.24.\", FutureWarning\n"
     ]
    },
    {
     "name": "stdout",
     "output_type": "stream",
     "text": [
      "... saving model: models\\sl-germany-0_1.joblib\n"
     ]
    },
    {
     "name": "stderr",
     "output_type": "stream",
     "text": [
      "C:\\Users\\JitendraBojja\\anaconda3\\lib\\site-packages\\sklearn\\model_selection\\_search.py:823: FutureWarning: The parameter 'iid' is deprecated in 0.22 and will be removed in 0.24.\n",
      "  \"removed in 0.24.\", FutureWarning\n",
      "C:\\Users\\JitendraBojja\\anaconda3\\lib\\site-packages\\sklearn\\model_selection\\_search.py:823: FutureWarning: The parameter 'iid' is deprecated in 0.22 and will be removed in 0.24.\n",
      "  \"removed in 0.24.\", FutureWarning\n"
     ]
    },
    {
     "name": "stdout",
     "output_type": "stream",
     "text": [
      "... saving model: models\\sl-hong_kong-0_1.joblib\n"
     ]
    },
    {
     "name": "stderr",
     "output_type": "stream",
     "text": [
      "C:\\Users\\JitendraBojja\\anaconda3\\lib\\site-packages\\sklearn\\model_selection\\_search.py:823: FutureWarning: The parameter 'iid' is deprecated in 0.22 and will be removed in 0.24.\n",
      "  \"removed in 0.24.\", FutureWarning\n",
      "C:\\Users\\JitendraBojja\\anaconda3\\lib\\site-packages\\sklearn\\model_selection\\_search.py:823: FutureWarning: The parameter 'iid' is deprecated in 0.22 and will be removed in 0.24.\n",
      "  \"removed in 0.24.\", FutureWarning\n"
     ]
    },
    {
     "name": "stdout",
     "output_type": "stream",
     "text": [
      "... saving model: models\\sl-netherlands-0_1.joblib\n"
     ]
    },
    {
     "name": "stderr",
     "output_type": "stream",
     "text": [
      "C:\\Users\\JitendraBojja\\anaconda3\\lib\\site-packages\\sklearn\\model_selection\\_search.py:823: FutureWarning: The parameter 'iid' is deprecated in 0.22 and will be removed in 0.24.\n",
      "  \"removed in 0.24.\", FutureWarning\n",
      "C:\\Users\\JitendraBojja\\anaconda3\\lib\\site-packages\\sklearn\\model_selection\\_search.py:823: FutureWarning: The parameter 'iid' is deprecated in 0.22 and will be removed in 0.24.\n",
      "  \"removed in 0.24.\", FutureWarning\n"
     ]
    },
    {
     "name": "stdout",
     "output_type": "stream",
     "text": [
      "... saving model: models\\sl-norway-0_1.joblib\n"
     ]
    },
    {
     "name": "stderr",
     "output_type": "stream",
     "text": [
      "C:\\Users\\JitendraBojja\\anaconda3\\lib\\site-packages\\sklearn\\model_selection\\_search.py:823: FutureWarning: The parameter 'iid' is deprecated in 0.22 and will be removed in 0.24.\n",
      "  \"removed in 0.24.\", FutureWarning\n",
      "C:\\Users\\JitendraBojja\\anaconda3\\lib\\site-packages\\sklearn\\model_selection\\_search.py:823: FutureWarning: The parameter 'iid' is deprecated in 0.22 and will be removed in 0.24.\n",
      "  \"removed in 0.24.\", FutureWarning\n"
     ]
    },
    {
     "name": "stdout",
     "output_type": "stream",
     "text": [
      "... saving model: models\\sl-portugal-0_1.joblib\n"
     ]
    },
    {
     "name": "stderr",
     "output_type": "stream",
     "text": [
      "C:\\Users\\JitendraBojja\\anaconda3\\lib\\site-packages\\sklearn\\model_selection\\_search.py:823: FutureWarning: The parameter 'iid' is deprecated in 0.22 and will be removed in 0.24.\n",
      "  \"removed in 0.24.\", FutureWarning\n",
      "C:\\Users\\JitendraBojja\\anaconda3\\lib\\site-packages\\sklearn\\model_selection\\_search.py:823: FutureWarning: The parameter 'iid' is deprecated in 0.22 and will be removed in 0.24.\n",
      "  \"removed in 0.24.\", FutureWarning\n"
     ]
    },
    {
     "name": "stdout",
     "output_type": "stream",
     "text": [
      "... saving model: models\\sl-singapore-0_1.joblib\n"
     ]
    },
    {
     "name": "stderr",
     "output_type": "stream",
     "text": [
      "C:\\Users\\JitendraBojja\\anaconda3\\lib\\site-packages\\sklearn\\model_selection\\_search.py:823: FutureWarning: The parameter 'iid' is deprecated in 0.22 and will be removed in 0.24.\n",
      "  \"removed in 0.24.\", FutureWarning\n",
      "C:\\Users\\JitendraBojja\\anaconda3\\lib\\site-packages\\sklearn\\model_selection\\_search.py:823: FutureWarning: The parameter 'iid' is deprecated in 0.22 and will be removed in 0.24.\n",
      "  \"removed in 0.24.\", FutureWarning\n"
     ]
    },
    {
     "name": "stdout",
     "output_type": "stream",
     "text": [
      "... saving model: models\\sl-spain-0_1.joblib\n"
     ]
    },
    {
     "name": "stderr",
     "output_type": "stream",
     "text": [
      "C:\\Users\\JitendraBojja\\anaconda3\\lib\\site-packages\\sklearn\\model_selection\\_search.py:823: FutureWarning: The parameter 'iid' is deprecated in 0.22 and will be removed in 0.24.\n",
      "  \"removed in 0.24.\", FutureWarning\n",
      "C:\\Users\\JitendraBojja\\anaconda3\\lib\\site-packages\\sklearn\\model_selection\\_search.py:823: FutureWarning: The parameter 'iid' is deprecated in 0.22 and will be removed in 0.24.\n",
      "  \"removed in 0.24.\", FutureWarning\n"
     ]
    },
    {
     "name": "stdout",
     "output_type": "stream",
     "text": [
      "... saving model: models\\sl-united_kingdom-0_1.joblib\n"
     ]
    }
   ],
   "source": [
    "model_train(data_dir)"
   ]
  },
  {
   "cell_type": "code",
   "execution_count": 8,
   "metadata": {},
   "outputs": [
    {
     "name": "stdout",
     "output_type": "stream",
     "text": [
      "... loading ts data from files\n",
      "2017-12-02\n",
      "{'y_pred': array([3870.81333333]), 'y_proba': None}\n"
     ]
    }
   ],
   "source": [
    "dataxx = model_predict('eire','2017','12','2')\n",
    "print(dataxx)"
   ]
  },
  {
   "cell_type": "code",
   "execution_count": 102,
   "metadata": {},
   "outputs": [
    {
     "name": "stdout",
     "output_type": "stream",
     "text": [
      "...fetching data\n",
      "... loading ts data from files\n",
      "load time: 0:00:00\n",
      "all (607, 7)\n",
      "eire (607, 7)\n",
      "france (607, 7)\n",
      "germany (607, 7)\n",
      "hong_kong (426, 7)\n",
      "netherlands (607, 7)\n",
      "norway (577, 7)\n",
      "portugal (607, 7)\n",
      "singapore (456, 7)\n",
      "spain (607, 7)\n",
      "united_kingdom (607, 7)\n"
     ]
    }
   ],
   "source": [
    "\n",
    "\"\"\"\n",
    "collection of functions for the final case study solution\n",
    "\"\"\"\n",
    "\n",
    "import os\n",
    "import sys\n",
    "import re\n",
    "import shutil\n",
    "import time\n",
    "import pickle\n",
    "from collections import defaultdict\n",
    "from datetime import datetime\n",
    "import numpy as np\n",
    "import pandas as pd\n",
    "import matplotlib.pyplot as plt\n",
    "import matplotlib.dates as mdates\n",
    "from pandas.plotting import register_matplotlib_converters\n",
    "register_matplotlib_converters()\n",
    "\n",
    "COLORS = [\"darkorange\",\"royalblue\",\"slategrey\"]\n",
    "##data_dir = '/Users/JitendraBojja/Downloads/Capstone_Project_JB/data_dir'\n",
    "\n",
    "def fetch_data(data_dir):\n",
    "    \"\"\"\n",
    "    laod all json formatted files into a dataframe\n",
    "    \"\"\"\n",
    "\n",
    "    ## input testing\n",
    "    if not os.path.isdir(data_dir):\n",
    "        raise Exception(\"specified data dir does not exist\")\n",
    "    if not len(os.listdir(data_dir)) > 0:\n",
    "        raise Exception(\"specified data dir does not contain any files\")\n",
    "\n",
    "    file_list = [os.path.join(data_dir,f) for f in os.listdir(data_dir) if re.search(\"\\.json\",f)]\n",
    "    correct_columns = ['country', 'customer_id', 'day', 'invoice', 'month',\n",
    "                       'price', 'stream_id', 'times_viewed', 'year']\n",
    "\n",
    "    ## read data into a temp structure\n",
    "    all_months = {}\n",
    "    for file_name in file_list:\n",
    "        df = pd.read_json(file_name)\n",
    "        all_months[os.path.split(file_name)[-1]] = df\n",
    "\n",
    "    ## ensure the data are formatted with correct columns\n",
    "    for f,df in all_months.items():\n",
    "        cols = set(df.columns.tolist())\n",
    "        if 'StreamID' in cols:\n",
    "             df.rename(columns={'StreamID':'stream_id'},inplace=True)\n",
    "        if 'TimesViewed' in cols:\n",
    "            df.rename(columns={'TimesViewed':'times_viewed'},inplace=True)\n",
    "        if 'total_price' in cols:\n",
    "            df.rename(columns={'total_price':'price'},inplace=True)\n",
    "\n",
    "        cols = df.columns.tolist()\n",
    "        if sorted(cols) != correct_columns:\n",
    "            raise Exception(\"columns name could not be matched to correct cols\")\n",
    "\n",
    "    ## concat all of the data\n",
    "    df = pd.concat(list(all_months.values()),sort=True)\n",
    "    years,months,days = df['year'].values,df['month'].values,df['day'].values \n",
    "    dates = [\"{}-{}-{}\".format(years[i],str(months[i]).zfill(2),str(days[i]).zfill(2)) for i in range(df.shape[0])]\n",
    "    df['invoice_date'] = np.array(dates,dtype='datetime64[D]')\n",
    "    df['invoice'] = [re.sub(\"\\D+\",\"\",i) for i in df['invoice'].values]\n",
    "    \n",
    "    ## sort by date and reset the index\n",
    "    df.sort_values(by='invoice_date',inplace=True)\n",
    "    df.reset_index(drop=True,inplace=True)\n",
    "    \n",
    "    return(df)\n",
    "\n",
    "\n",
    "def convert_to_ts(df_orig, country=None):\n",
    "    \"\"\"\n",
    "    given the original DataFrame (fetch_data())\n",
    "    return a numerically indexed time-series DataFrame \n",
    "    by aggregating over each day\n",
    "    \"\"\"\n",
    "\n",
    "    if country:\n",
    "        if country not in np.unique(df_orig['country'].values):\n",
    "            raise Excpetion(\"country not found\")\n",
    "    \n",
    "        mask = df_orig['country'] == country\n",
    "        df = df_orig[mask]\n",
    "    else:\n",
    "        df = df_orig\n",
    "        \n",
    "    ## use a date range to ensure all days are accounted for in the data\n",
    "    invoice_dates = df['invoice_date'].values\n",
    "    start_month = '{}-{}'.format(df['year'].values[0],str(df['month'].values[0]).zfill(2))\n",
    "    stop_month = '{}-{}'.format(df['year'].values[-1],str(df['month'].values[-1]).zfill(2))\n",
    "    df_dates = df['invoice_date'].values.astype('datetime64[D]')\n",
    "    days = np.arange(start_month,stop_month,dtype='datetime64[D]')\n",
    "    \n",
    "    purchases = np.array([np.where(df_dates==day)[0].size for day in days])\n",
    "    invoices = [np.unique(df[df_dates==day]['invoice'].values).size for day in days]\n",
    "    streams = [np.unique(df[df_dates==day]['stream_id'].values).size for day in days]\n",
    "    views =  [df[df_dates==day]['times_viewed'].values.sum() for day in days]\n",
    "    revenue = [df[df_dates==day]['price'].values.sum() for day in days]\n",
    "    year_month = [\"-\".join(re.split(\"-\",str(day))[:2]) for day in days]\n",
    "\n",
    "    df_time = pd.DataFrame({'date':days,\n",
    "                            'purchases':purchases,\n",
    "                            'unique_invoices':invoices,\n",
    "                            'unique_streams':streams,\n",
    "                            'total_views':views,\n",
    "                            'year_month':year_month,\n",
    "                            'revenue':revenue})\n",
    "    return(df_time)\n",
    "\n",
    "\n",
    "def fetch_ts(data_dir, clean=False):\n",
    "    \"\"\"\n",
    "    convenience function to read in new data\n",
    "    uses csv to load quickly\n",
    "    use clean=True when you want to re-create the files\n",
    "    \"\"\"\n",
    "\n",
    "    ##ts_data_dir = os.path.join(data_dir,\"ts-data\")\n",
    "    ts_data_dir = '/Users/JitendraBojja/Downloads/Capstone_Project_JB/data_dir/ts-data'\n",
    "    \n",
    "    if clean:\n",
    "        shutil.rmtree(ts_data_dir)\n",
    "    if not os.path.exists(ts_data_dir):\n",
    "        os.mkdir(ts_data_dir)\n",
    "\n",
    "    ## if files have already been processed load them        \n",
    "    if len(os.listdir(ts_data_dir)) > 0:\n",
    "        print(\"... loading ts data from files\")\n",
    "        return({re.sub(\"\\.csv\",\"\",cf)[3:]:pd.read_csv(os.path.join(ts_data_dir,cf)) for cf in os.listdir(ts_data_dir)})\n",
    "\n",
    "    ## get original data\n",
    "    print(\"... processing data for loading\")\n",
    "    df = fetch_data(data_dir)\n",
    "\n",
    "    ## find the top ten countries (wrt revenue)\n",
    "    table = pd.pivot_table(df,index='country',values=\"price\",aggfunc='sum')\n",
    "    table.columns = ['total_revenue']\n",
    "    table.sort_values(by='total_revenue',inplace=True,ascending=False)\n",
    "    top_ten_countries =  np.array(list(table.index))[:10]\n",
    "\n",
    "    file_list = [os.path.join(data_dir,f) for f in os.listdir(data_dir) if re.search(\"\\.json\",f)]\n",
    "    countries = [os.path.join(data_dir,\"ts-\"+re.sub(\"\\s+\",\"_\",c.lower()) + \".csv\") for c in top_ten_countries]\n",
    "\n",
    "    ## load the data\n",
    "    dfs = {}\n",
    "    dfs['all'] = convert_to_ts(df)\n",
    "    for country in top_ten_countries:\n",
    "        country_id = re.sub(\"\\s+\",\"_\",country.lower())\n",
    "        file_name = os.path.join(data_dir,\"ts-\"+ country_id + \".csv\")\n",
    "        dfs[country_id] = convert_to_ts(df,country=country)\n",
    "\n",
    "    ## save the data as csvs    \n",
    "    for key, item in dfs.items():\n",
    "        item.to_csv(os.path.join(ts_data_dir,\"ts-\"+key+\".csv\"),index=False)\n",
    "        \n",
    "    return(dfs)\n",
    "\n",
    "def engineer_features(df,training=True):\n",
    "    \"\"\"\n",
    "    for any given day the target becomes the sum of the next days revenue\n",
    "    for that day we engineer several features that help predict the summed revenue\n",
    "    \n",
    "    the 'training' flag will trim data that should not be used for training\n",
    "    when set to false all data will be returned\n",
    "    \"\"\"\n",
    "\n",
    "    ## extract dates\n",
    "    dates = df['date'].values.copy()\n",
    "    dates = dates.astype('datetime64[D]')\n",
    "\n",
    "    ## engineer some features\n",
    "    eng_features = defaultdict(list)\n",
    "    previous =[7, 14, 28, 70]  #[7, 14, 21, 28, 35, 42, 49, 56, 63, 70]\n",
    "    y = np.zeros(dates.size)\n",
    "    for d,day in enumerate(dates):\n",
    "\n",
    "        ## use windows in time back from a specific date\n",
    "        for num in previous:\n",
    "            current = np.datetime64(day, 'D') \n",
    "            prev = current - np.timedelta64(num, 'D')\n",
    "            mask = np.in1d(dates, np.arange(prev,current,dtype='datetime64[D]'))\n",
    "            eng_features[\"previous_{}\".format(num)].append(df[mask]['revenue'].sum())\n",
    "\n",
    "        ## get get the target revenue    \n",
    "        plus_30 = current + np.timedelta64(30,'D')\n",
    "        mask = np.in1d(dates, np.arange(current,plus_30,dtype='datetime64[D]'))\n",
    "        y[d] = df[mask]['revenue'].sum()\n",
    "\n",
    "        ## attempt to capture monthly trend with previous years data (if present)\n",
    "        start_date = current - np.timedelta64(365,'D')\n",
    "        stop_date = plus_30 - np.timedelta64(365,'D')\n",
    "        mask = np.in1d(dates, np.arange(start_date,stop_date,dtype='datetime64[D]'))\n",
    "        eng_features['previous_year'].append(df[mask]['revenue'].sum())\n",
    "\n",
    "        ## add some non-revenue features\n",
    "        minus_30 = current - np.timedelta64(30,'D')\n",
    "        mask = np.in1d(dates, np.arange(minus_30,current,dtype='datetime64[D]'))\n",
    "        eng_features['recent_invoices'].append(df[mask]['unique_invoices'].mean())\n",
    "        eng_features['recent_views'].append(df[mask]['total_views'].mean())\n",
    "\n",
    "    X = pd.DataFrame(eng_features)\n",
    "    ## combine features in to df and remove rows with all zeros\n",
    "    X.fillna(0,inplace=True)\n",
    "    mask = X.sum(axis=1)>0\n",
    "    X = X[mask]\n",
    "    y = y[mask]\n",
    "    dates = dates[mask]\n",
    "    X.reset_index(drop=True, inplace=True)\n",
    "\n",
    "    if training == True:\n",
    "        ## remove the last 30 days (because the target is not reliable)\n",
    "        mask = np.arange(X.shape[0]) < np.arange(X.shape[0])[-30]\n",
    "        X = X[mask]\n",
    "        y = y[mask]\n",
    "        dates = dates[mask]\n",
    "        X.reset_index(drop=True, inplace=True)\n",
    "    \n",
    "    return(X,y,dates)\n",
    "\n",
    "\n",
    "if __name__ == \"__main__\":\n",
    "\n",
    "    run_start = time.time() \n",
    "    data_dir = os.path.join(\"..\",\"data\")\n",
    "    print(\"...fetching data\")\n",
    "\n",
    "    ts_all = fetch_ts(data_dir,clean=False)\n",
    "\n",
    "    m, s = divmod(time.time()-run_start,60)\n",
    "    h, m = divmod(m, 60)\n",
    "    print(\"load time:\", \"%d:%02d:%02d\"%(h, m, s))\n",
    "\n",
    "    for key,item in ts_all.items():\n",
    "        print(key,item.shape)\n"
   ]
  },
  {
   "cell_type": "code",
   "execution_count": 101,
   "metadata": {},
   "outputs": [
    {
     "name": "stdout",
     "output_type": "stream",
     "text": [
      "TRAINING MODELS\n",
      "... test flag on\n",
      "...... subseting data\n",
      "...... subseting countries\n",
      "... loading ts data from files\n"
     ]
    },
    {
     "name": "stderr",
     "output_type": "stream",
     "text": [
      "C:\\Users\\JitendraBojja\\anaconda3\\lib\\site-packages\\sklearn\\model_selection\\_search.py:823: FutureWarning: The parameter 'iid' is deprecated in 0.22 and will be removed in 0.24.\n",
      "  \"removed in 0.24.\", FutureWarning\n",
      "C:\\Users\\JitendraBojja\\anaconda3\\lib\\site-packages\\sklearn\\model_selection\\_search.py:823: FutureWarning: The parameter 'iid' is deprecated in 0.22 and will be removed in 0.24.\n",
      "  \"removed in 0.24.\", FutureWarning\n"
     ]
    },
    {
     "name": "stdout",
     "output_type": "stream",
     "text": [
      "... saving test version of model: models\\test-all-0_1.joblib\n"
     ]
    },
    {
     "name": "stderr",
     "output_type": "stream",
     "text": [
      "C:\\Users\\JitendraBojja\\anaconda3\\lib\\site-packages\\sklearn\\model_selection\\_search.py:823: FutureWarning: The parameter 'iid' is deprecated in 0.22 and will be removed in 0.24.\n",
      "  \"removed in 0.24.\", FutureWarning\n",
      "C:\\Users\\JitendraBojja\\anaconda3\\lib\\site-packages\\sklearn\\model_selection\\_search.py:823: FutureWarning: The parameter 'iid' is deprecated in 0.22 and will be removed in 0.24.\n",
      "  \"removed in 0.24.\", FutureWarning\n"
     ]
    },
    {
     "name": "stdout",
     "output_type": "stream",
     "text": [
      "... saving test version of model: models\\test-united_kingdom-0_1.joblib\n",
      "LOADING MODELS\n",
      "... loading ts data from files\n",
      "... models loaded:  all,eire,france,germany,hong_kong,netherlands,norway,portugal,singapore,spain,united_kingdom\n",
      "... loading ts data from files\n",
      "2018-01-05\n",
      "{'y_pred': array([183723.796]), 'y_proba': None}\n"
     ]
    }
   ],
   "source": [
    "\n",
    "import time,os,re,csv,sys,uuid,joblib\n",
    "from datetime import date\n",
    "from collections import defaultdict\n",
    "import numpy as np\n",
    "import pandas as pd\n",
    "from sklearn import svm\n",
    "from sklearn.model_selection import train_test_split, GridSearchCV\n",
    "from sklearn.ensemble import RandomForestRegressor\n",
    "from sklearn.metrics import mean_squared_error\n",
    "from sklearn.preprocessing import StandardScaler, OneHotEncoder\n",
    "from sklearn.pipeline import Pipeline\n",
    "\n",
    "##from logger import update_predict_log, update_train_log\n",
    "from dataingestion2 import fetch_ts, engineer_features\n",
    "\n",
    "## model specific variables (iterate the version and note with each change)\n",
    "MODEL_DIR = \"models\"\n",
    "MODEL_VERSION = 0.1\n",
    "MODEL_VERSION_NOTE = \"supervised learing model for time-series\"\n",
    "data_dir = '/Users/JitendraBojja/Downloads/Capstone_Project_JB/data_dir'\n",
    "\n",
    "def _model_train(df,tag,test=False):\n",
    "    \"\"\"\n",
    "    example funtion to train model\n",
    "    \n",
    "    The 'test' flag when set to 'True':\n",
    "        (1) subsets the data and serializes a test version\n",
    "        (2) specifies that the use of the 'test' log file \n",
    "    \"\"\"\n",
    "\n",
    "\n",
    "    ## start timer for runtime\n",
    "    time_start = time.time()\n",
    "    \n",
    "    X,y,dates = engineer_features(df)\n",
    "\n",
    "    if test:\n",
    "        n_samples = int(np.round(0.3 * X.shape[0]))\n",
    "        subset_indices = np.random.choice(np.arange(X.shape[0]),n_samples,\n",
    "                                          replace=False).astype(int)\n",
    "        mask = np.in1d(np.arange(y.size),subset_indices)\n",
    "        y=y[mask]\n",
    "        X=X[mask]\n",
    "        dates=dates[mask]\n",
    "        \n",
    "    ## Perform a train-test split\n",
    "    X_train, X_test, y_train, y_test = train_test_split(X, y, test_size=0.25,\n",
    "                                                        shuffle=True, random_state=42)\n",
    "    ## train a random forest model\n",
    "    param_grid_rf = {\n",
    "    'rf__criterion': ['mse','mae'],\n",
    "    'rf__n_estimators': [10,15,20,25]\n",
    "    }\n",
    "\n",
    "    pipe_rf = Pipeline(steps=[('scaler', StandardScaler()),\n",
    "                              ('rf', RandomForestRegressor())])\n",
    "    \n",
    "    grid = GridSearchCV(pipe_rf, param_grid=param_grid_rf, cv=5, iid=False, n_jobs=-1)\n",
    "    grid.fit(X_train, y_train)\n",
    "    y_pred = grid.predict(X_test)\n",
    "    eval_rmse =  round(np.sqrt(mean_squared_error(y_test,y_pred)))\n",
    "    \n",
    "    ## retrain using all data\n",
    "    grid.fit(X, y)\n",
    "    model_name = re.sub(\"\\.\",\"_\",str(MODEL_VERSION))\n",
    "    if test:\n",
    "        saved_model = os.path.join(MODEL_DIR,\n",
    "                                   \"test-{}-{}.joblib\".format(tag,model_name))\n",
    "        print(\"... saving test version of model: {}\".format(saved_model))\n",
    "    else:\n",
    "        saved_model = os.path.join(MODEL_DIR,\n",
    "                                   \"sl-{}-{}.joblib\".format(tag,model_name))\n",
    "        print(\"... saving model: {}\".format(saved_model))\n",
    "        \n",
    "    joblib.dump(grid,saved_model)\n",
    "\n",
    "    m, s = divmod(time.time()-time_start, 60)\n",
    "    h, m = divmod(m, 60)\n",
    "    runtime = \"%03d:%02d:%02d\"%(h, m, s)\n",
    "\n",
    "    ## update log\n",
    "  \n",
    "def model_train(data_dir,test=False):\n",
    "    \"\"\"\n",
    "    funtion to train model given a df\n",
    "    \n",
    "    'mode' -  can be used to subset data essentially simulating a train\n",
    "    \"\"\"\n",
    "    \n",
    "    if not os.path.isdir(MODEL_DIR):\n",
    "        os.mkdir(MODEL_DIR)\n",
    "\n",
    "    if test:\n",
    "        print(\"... test flag on\")\n",
    "        print(\"...... subseting data\")\n",
    "        print(\"...... subseting countries\")\n",
    "        \n",
    "    ## fetch time-series formatted data\n",
    "    ts_data = fetch_ts(data_dir)\n",
    "\n",
    "    ## train a different model for each data sets\n",
    "    for country,df in ts_data.items():\n",
    "        \n",
    "        if test and country not in ['all','united_kingdom']:\n",
    "            continue\n",
    "        \n",
    "        _model_train(df,country,test=test)\n",
    "    \n",
    "def model_load(prefix='sl',data_dir=None,training=True):\n",
    "    \"\"\"\n",
    "    example funtion to load model\n",
    "    \n",
    "    The prefix allows the loading of different models\n",
    "    \"\"\"\n",
    "\n",
    "    if not data_dir:\n",
    "        data_dir = '/Users/JitendraBojja/Downloads/Capstone_Project_JB/data_dir'\n",
    "    \n",
    "    models = [f for f in os.listdir(os.path.join(\".\",\"models\")) if re.search(\"sl\",f)]\n",
    "\n",
    "    if len(models) == 0:\n",
    "        raise Exception(\"Models with prefix '{}' cannot be found did you train?\".format(prefix))\n",
    "\n",
    "    all_models = {}\n",
    "    for model in models:\n",
    "        all_models[re.split(\"-\",model)[1]] = joblib.load(os.path.join(\".\",\"models\",model))\n",
    "\n",
    "    ## load data\n",
    "    ts_data = fetch_ts(data_dir)\n",
    "    all_data = {}\n",
    "    for country, df in ts_data.items():\n",
    "        X,y,dates = engineer_features(df,training=training)\n",
    "        dates = np.array([str(d) for d in dates])\n",
    "        all_data[country] = {\"X\":X,\"y\":y,\"dates\": dates}\n",
    "        \n",
    "    return(all_data, all_models)\n",
    "\n",
    "def model_predict(country,year,month,day,all_models=None,test=False):\n",
    "    \"\"\"\n",
    "    example funtion to predict from model\n",
    "    \"\"\"\n",
    "\n",
    "    ## start timer for runtime\n",
    "    time_start = time.time()\n",
    "\n",
    "    ## load model if needed\n",
    "    if not all_models:\n",
    "        all_data,all_models = model_load(training=False)\n",
    "    \n",
    "    ## input checks\n",
    "    if country not in all_models.keys():\n",
    "        raise Exception(\"ERROR (model_predict) - model for country '{}' could not be found\".format(country))\n",
    "\n",
    "    for d in [year,month,day]:\n",
    "        if re.search(\"\\D\",d):\n",
    "            raise Exception(\"ERROR (model_predict) - invalid year, month or day\")\n",
    "    \n",
    "    ## load data\n",
    "    model = all_models[country]\n",
    "    data = all_data[country]\n",
    "\n",
    "    ## check date\n",
    "    target_date = \"{}-{}-{}\".format(year,str(month).zfill(2),str(day).zfill(2))\n",
    "    print(target_date)\n",
    "\n",
    "    if target_date not in data['dates']:\n",
    "        raise Exception(\"ERROR (model_predict) - date {} not in range {}-{}\".format(target_date,\n",
    "                                                                                    data['dates'][0],\n",
    "                                                                                    data['dates'][-1]))\n",
    "    date_indx = np.where(data['dates'] == target_date)[0][0]\n",
    "    query = data['X'].iloc[[date_indx]]\n",
    "    \n",
    "    ## sainty check\n",
    "    if data['dates'].shape[0] != data['X'].shape[0]:\n",
    "        raise Exception(\"ERROR (model_predict) - dimensions mismatch\")\n",
    "\n",
    "    ## make prediction and gather data for log entry\n",
    "    y_pred = model.predict(query)\n",
    "    y_proba = None\n",
    "    if 'predict_proba' in dir(model) and 'probability' in dir(model):\n",
    "        if model.probability == True:\n",
    "            y_proba = model.predict_proba(query)\n",
    "\n",
    "\n",
    "    m, s = divmod(time.time()-time_start, 60)\n",
    "    h, m = divmod(m, 60)\n",
    "    runtime = \"%03d:%02d:%02d\"%(h, m, s)\n",
    "\n",
    "    ## update predict log\n",
    "    \n",
    "    return({'y_pred':y_pred,'y_proba':y_proba})\n",
    "\n",
    "if __name__ == \"__main__\":\n",
    "\n",
    "    \"\"\"\n",
    "    basic test procedure for model.py\n",
    "    \"\"\"\n",
    "\n",
    "    ## train the model\n",
    "    print(\"TRAINING MODELS\")\n",
    "    data_dir = os.path.join(\"..\",\"data_dir\")\n",
    "    model_train(data_dir,test=True)\n",
    "\n",
    "    ## load the model\n",
    "    print(\"LOADING MODELS\")\n",
    "    all_data, all_models = model_load()\n",
    "    print(\"... models loaded: \",\",\".join(all_models.keys()))\n",
    "\n",
    "    ## test predict\n",
    "    country='all'\n",
    "    year='2018'\n",
    "    month='01'\n",
    "    day='05'\n",
    "    result = model_predict(country,year,month,day)\n",
    "    print(result)\n"
   ]
  },
  {
   "cell_type": "code",
   "execution_count": 106,
   "metadata": {},
   "outputs": [
    {
     "name": "stdout",
     "output_type": "stream",
     "text": [
      "... loading ts data from files\n",
      "2017-12-02\n"
     ]
    },
    {
     "data": {
      "text/plain": [
       "{'y_pred': array([3869.88]), 'y_proba': None}"
      ]
     },
     "execution_count": 106,
     "metadata": {},
     "output_type": "execute_result"
    }
   ],
   "source": [
    "model_predict('eire','2017','12','2')"
   ]
  },
  {
   "cell_type": "code",
   "execution_count": null,
   "metadata": {},
   "outputs": [],
   "source": []
  },
  {
   "cell_type": "code",
   "execution_count": 108,
   "metadata": {},
   "outputs": [],
   "source": [
    "MODEL_VERSION = 0.1\n",
    "MODEL_VERSION_NOTE = \"supervised learning\""
   ]
  },
  {
   "cell_type": "code",
   "execution_count": 115,
   "metadata": {},
   "outputs": [],
   "source": [
    "from datetime import date"
   ]
  },
  {
   "cell_type": "code",
   "execution_count": 121,
   "metadata": {},
   "outputs": [
    {
     "name": "stdout",
     "output_type": "stream",
     "text": [
      "Writing logger2.py\n"
     ]
    }
   ],
   "source": [
    "%%writefile logger2.py\n",
    "#!/usr/bin/env python\n",
    "\"\"\"\n",
    "module with functions to enable logging\n",
    "\"\"\"\n",
    "\n",
    "import time,os,re,csv,sys,uuid,joblib\n",
    "from datetime import datetime\n",
    "log_dir = '/Users/JitendraBojja/Downloads/Capstone_Project_JB/logs'\n",
    "if not os.path.exists(log_dir):\n",
    "    os.mkdir('/Users/JitendraBojja/Downloads/Capstone_Project_JB/logs')\n",
    "\n",
    "def update_train_log(tag, date, eval_rmse, runtime, MODEL_VERSION, MODEL_VERSION_NOTE, test=False):\n",
    "    \"\"\"\n",
    "    update train log file\n",
    "    \"\"\"\n",
    "\n",
    "    ## name the logfile using something that cycles with date (day, month, year)    \n",
    "    today = datetime.today()\n",
    "    if test:\n",
    "        logfile = os.path.join(\"logs\", \"train-test.log\")\n",
    "    else:\n",
    "        logfile = os.path.join(\"logs\", \"train-{}-{}.log\".format(today.year, today.month))\n",
    "        \n",
    "    ## write the data to a csv file    \n",
    "    header = ['unique_id','timestamp','country','date','eval_rmse','model_version',\n",
    "              'model_version_note','runtime']\n",
    "    write_header = False\n",
    "    if not os.path.exists(logfile):\n",
    "        write_header = True\n",
    "    with open(logfile, 'a') as csvfile:\n",
    "        writer = csv.writer(csvfile, delimiter=',')\n",
    "        if write_header:\n",
    "            writer.writerow(header)\n",
    "\n",
    "        to_write = map(str, [uuid.uuid4(), time.time(),tag,  date, eval_rmse, MODEL_VERSION, MODEL_VERSION_NOTE, runtime])\n",
    "        writer.writerow(to_write)\n",
    "\n",
    "def update_predict_log(country, y_pred, y_proba, target_date, runtime, MODEL_VERSION, test=False):\n",
    "    \"\"\"\n",
    "    update predict log file\n",
    "    \"\"\"\n",
    "\n",
    "    ## name the logfile using something that cycles with date (day, month, year)    \n",
    "    today = datetime.today()\n",
    "    if test:\n",
    "        logfile = os.path.join(\"logs\", \"predict-test.log\")\n",
    "    else:\n",
    "        logfile = os.path.join(\"logs\", \"predict-{}-{}.log\".format(today.year, today.month))\n",
    "        \n",
    "    ## write the data to a csv file    \n",
    "    header = ['unique_id','timestamp','country','y_pred','y_proba','target_date','model_version','runtime']\n",
    "    write_header = False\n",
    "    if not os.path.exists(logfile):\n",
    "        write_header = True\n",
    "    with open(logfile,'a') as csvfile:\n",
    "        writer = csv.writer(csvfile, delimiter=',')\n",
    "        if write_header:\n",
    "            writer.writerow(header)\n",
    "\n",
    "        to_write = map(str,[uuid.uuid4(), time.time(), country, y_pred, y_proba, target_date, MODEL_VERSION, runtime])\n",
    "        writer.writerow(to_write)\n",
    "\n",
    "if __name__ == \"__main__\":\n",
    "\n",
    "    \"\"\"\n",
    "    basic test procedure for logger.py\n",
    "    \"\"\"\n",
    "\n",
    "    from model2 import MODEL_VERSION, MODEL_VERSION_NOTE\n",
    "    \n",
    "    ## train logger\n",
    "    update_train_log(\"unitedkingdom\",\"2017-12-11,2017-12-31\",\"0.5\",\"00:00:01\", MODEL_VERSION, MODEL_VERSION_NOTE, test=True)\n",
    "    ## predict logger\n",
    "    update_predict_log(\"unitedkingdom\",\"[0]\", \"[0.6,0.4]\",\"['united_states', 24, 'aavail_basic', 8]\", \"00:00:01\", MODEL_VERSION, test=True)\n",
    "    \n",
    "        \n"
   ]
  },
  {
   "cell_type": "code",
   "execution_count": 125,
   "metadata": {},
   "outputs": [
    {
     "name": "stdout",
     "output_type": "stream",
     "text": [
      "Overwriting model2.py\n"
     ]
    }
   ],
   "source": [
    "%%writefile model2.py\n",
    "import time,os,re,csv,sys,uuid,joblib\n",
    "from datetime import date\n",
    "from collections import defaultdict\n",
    "import numpy as np\n",
    "import pandas as pd\n",
    "from sklearn import svm\n",
    "from sklearn.model_selection import train_test_split, GridSearchCV\n",
    "from sklearn.ensemble import RandomForestRegressor\n",
    "from sklearn.metrics import mean_squared_error\n",
    "from sklearn.preprocessing import StandardScaler, OneHotEncoder\n",
    "from sklearn.pipeline import Pipeline\n",
    "\n",
    "from logger2 import update_predict_log, update_train_log\n",
    "from dataingestion2 import fetch_ts, engineer_features\n",
    "\n",
    "## model specific variables (iterate the version and note with each change)\n",
    "MODEL_DIR = \"models\"\n",
    "MODEL_VERSION = 0.1\n",
    "MODEL_VERSION_NOTE = \"supervised learing model for time-series\"\n",
    "data_dir = '/Users/JitendraBojja/Downloads/Capstone_Project_JB/data_dir'\n",
    "\n",
    "def _model_train(df,tag,test=False):\n",
    "    \"\"\"\n",
    "    example funtion to train model\n",
    "    \n",
    "    The 'test' flag when set to 'True':\n",
    "        (1) subsets the data and serializes a test version\n",
    "        (2) specifies that the use of the 'test' log file \n",
    "    \"\"\"\n",
    "\n",
    "\n",
    "    ## start timer for runtime\n",
    "    time_start = time.time()\n",
    "    \n",
    "    X,y,dates = engineer_features(df)\n",
    "\n",
    "    if test:\n",
    "        n_samples = int(np.round(0.3 * X.shape[0]))\n",
    "        subset_indices = np.random.choice(np.arange(X.shape[0]),n_samples,\n",
    "                                          replace=False).astype(int)\n",
    "        mask = np.in1d(np.arange(y.size),subset_indices)\n",
    "        y=y[mask]\n",
    "        X=X[mask]\n",
    "        dates=dates[mask]\n",
    "        \n",
    "    ## Perform a train-test split\n",
    "    X_train, X_test, y_train, y_test = train_test_split(X, y, test_size=0.25,\n",
    "                                                        shuffle=True, random_state=42)\n",
    "    ## train a random forest model\n",
    "    param_grid_rf = {\n",
    "    'rf__criterion': ['mse','mae'],\n",
    "    'rf__n_estimators': [10,15,20,25]\n",
    "    }\n",
    "\n",
    "    pipe_rf = Pipeline(steps=[('scaler', StandardScaler()),\n",
    "                              ('rf', RandomForestRegressor())])\n",
    "    \n",
    "    grid = GridSearchCV(pipe_rf, param_grid=param_grid_rf, cv=5, iid=False, n_jobs=-1)\n",
    "    grid.fit(X_train, y_train)\n",
    "    y_pred = grid.predict(X_test)\n",
    "    eval_rmse =  round(np.sqrt(mean_squared_error(y_test,y_pred)))\n",
    "    \n",
    "    ## retrain using all data\n",
    "    grid.fit(X, y)\n",
    "    model_name = re.sub(\"\\.\",\"_\",str(MODEL_VERSION))\n",
    "    if test:\n",
    "        saved_model = os.path.join(MODEL_DIR,\n",
    "                                   \"test-{}-{}.joblib\".format(tag,model_name))\n",
    "        print(\"... saving test version of model: {}\".format(saved_model))\n",
    "    else:\n",
    "        saved_model = os.path.join(MODEL_DIR,\n",
    "                                   \"sl-{}-{}.joblib\".format(tag,model_name))\n",
    "        print(\"... saving model: {}\".format(saved_model))\n",
    "        \n",
    "    joblib.dump(grid,saved_model)\n",
    "\n",
    "    m, s = divmod(time.time()-time_start, 60)\n",
    "    h, m = divmod(m, 60)\n",
    "    runtime = \"%03d:%02d:%02d\"%(h, m, s)\n",
    "\n",
    "    ## update log\n",
    "    update_train_log(tag,(str(dates[0]),str(dates[-1])),{'rmse':eval_rmse},runtime,MODEL_VERSION, MODEL_VERSION_NOTE,test=True)\n",
    "  \n",
    "def model_train(data_dir,test=False):\n",
    "    \"\"\"\n",
    "    funtion to train model given a df\n",
    "    \n",
    "    'mode' -  can be used to subset data essentially simulating a train\n",
    "    \"\"\"\n",
    "    \n",
    "    if not os.path.isdir(MODEL_DIR):\n",
    "        os.mkdir(MODEL_DIR)\n",
    "\n",
    "    if test:\n",
    "        print(\"... test flag on\")\n",
    "        print(\"...... subseting data\")\n",
    "        print(\"...... subseting countries\")\n",
    "        \n",
    "    ## fetch time-series formatted data\n",
    "    ts_data = fetch_ts(data_dir)\n",
    "\n",
    "    ## train a different model for each data sets\n",
    "    for country,df in ts_data.items():\n",
    "        \n",
    "        if test and country not in ['all','united_kingdom']:\n",
    "            continue\n",
    "        \n",
    "        _model_train(df,country,test=test)\n",
    "    \n",
    "def model_load(prefix='sl',data_dir=None,training=True):\n",
    "    \"\"\"\n",
    "    example funtion to load model\n",
    "    \n",
    "    The prefix allows the loading of different models\n",
    "    \"\"\"\n",
    "\n",
    "    if not data_dir:\n",
    "        data_dir = '/Users/JitendraBojja/Downloads/Capstone_Project_JB/data_dir'\n",
    "    \n",
    "    models = [f for f in os.listdir(os.path.join(\".\",\"models\")) if re.search(\"sl\",f)]\n",
    "\n",
    "    if len(models) == 0:\n",
    "        raise Exception(\"Models with prefix '{}' cannot be found did you train?\".format(prefix))\n",
    "\n",
    "    all_models = {}\n",
    "    for model in models:\n",
    "        all_models[re.split(\"-\",model)[1]] = joblib.load(os.path.join(\".\",\"models\",model))\n",
    "\n",
    "    ## load data\n",
    "    ts_data = fetch_ts(data_dir)\n",
    "    all_data = {}\n",
    "    for country, df in ts_data.items():\n",
    "        X,y,dates = engineer_features(df,training=training)\n",
    "        dates = np.array([str(d) for d in dates])\n",
    "        all_data[country] = {\"X\":X,\"y\":y,\"dates\": dates}\n",
    "        \n",
    "    return(all_data, all_models)\n",
    "\n",
    "def model_predict(country,year,month,day,all_models=None,test=False):\n",
    "    \"\"\"\n",
    "    example funtion to predict from model\n",
    "    \"\"\"\n",
    "\n",
    "    ## start timer for runtime\n",
    "    time_start = time.time()\n",
    "\n",
    "    ## load model if needed\n",
    "    if not all_models:\n",
    "        all_data,all_models = model_load(training=False)\n",
    "    \n",
    "    ## input checks\n",
    "    if country not in all_models.keys():\n",
    "        raise Exception(\"ERROR (model_predict) - model for country '{}' could not be found\".format(country))\n",
    "\n",
    "    for d in [year,month,day]:\n",
    "        if re.search(\"\\D\",d):\n",
    "            raise Exception(\"ERROR (model_predict) - invalid year, month or day\")\n",
    "    \n",
    "    ## load data\n",
    "    model = all_models[country]\n",
    "    data = all_data[country]\n",
    "\n",
    "    ## check date\n",
    "    target_date = \"{}-{}-{}\".format(year,str(month).zfill(2),str(day).zfill(2))\n",
    "    print(target_date)\n",
    "\n",
    "    if target_date not in data['dates']:\n",
    "        raise Exception(\"ERROR (model_predict) - date {} not in range {}-{}\".format(target_date,\n",
    "                                                                                    data['dates'][0],\n",
    "                                                                                    data['dates'][-1]))\n",
    "    date_indx = np.where(data['dates'] == target_date)[0][0]\n",
    "    query = data['X'].iloc[[date_indx]]\n",
    "    \n",
    "    ## sainty check\n",
    "    if data['dates'].shape[0] != data['X'].shape[0]:\n",
    "        raise Exception(\"ERROR (model_predict) - dimensions mismatch\")\n",
    "\n",
    "    ## make prediction and gather data for log entry\n",
    "    y_pred = model.predict(query)\n",
    "    y_proba = None\n",
    "    if 'predict_proba' in dir(model) and 'probability' in dir(model):\n",
    "        if model.probability == True:\n",
    "            y_proba = model.predict_proba(query)\n",
    "\n",
    "\n",
    "    m, s = divmod(time.time()-time_start, 60)\n",
    "    h, m = divmod(m, 60)\n",
    "    runtime = \"%03d:%02d:%02d\"%(h, m, s)\n",
    "\n",
    "    ## update predict log\n",
    "    update_predict_log(country,y_pred,y_proba,target_date,runtime, MODEL_VERSION, test=test)\n",
    "    \n",
    "    return({'y_pred':y_pred,'y_proba':y_proba})\n",
    "\n",
    "if __name__ == \"__main__\":\n",
    "\n",
    "    \"\"\"\n",
    "    basic test procedure for model.py\n",
    "    \"\"\"\n",
    "\n",
    "    ## train the model\n",
    "    print(\"TRAINING MODELS\")\n",
    "    data_dir = os.path.join(\"..\",\"data_dir\")\n",
    "    model_train(data_dir,test=True)\n",
    "\n",
    "    ## load the model\n",
    "    print(\"LOADING MODELS\")\n",
    "    all_data, all_models = model_load()\n",
    "    print(\"... models loaded: \",\",\".join(all_models.keys()))\n",
    "\n",
    "    ## test predict\n",
    "    country='all'\n",
    "    year='2018'\n",
    "    month='01'\n",
    "    day='05'\n",
    "    result = model_predict(country,year,month,day)\n",
    "    print(result)\n"
   ]
  },
  {
   "cell_type": "code",
   "execution_count": 126,
   "metadata": {},
   "outputs": [
    {
     "name": "stdout",
     "output_type": "stream",
     "text": [
      "... loading ts data from files\n"
     ]
    },
    {
     "name": "stderr",
     "output_type": "stream",
     "text": [
      "C:\\Users\\JitendraBojja\\anaconda3\\lib\\site-packages\\sklearn\\model_selection\\_search.py:823: FutureWarning: The parameter 'iid' is deprecated in 0.22 and will be removed in 0.24.\n",
      "  \"removed in 0.24.\", FutureWarning\n",
      "C:\\Users\\JitendraBojja\\anaconda3\\lib\\site-packages\\sklearn\\model_selection\\_search.py:823: FutureWarning: The parameter 'iid' is deprecated in 0.22 and will be removed in 0.24.\n",
      "  \"removed in 0.24.\", FutureWarning\n"
     ]
    },
    {
     "name": "stdout",
     "output_type": "stream",
     "text": [
      "... saving model: models\\sl-all-0_1.joblib\n"
     ]
    },
    {
     "name": "stderr",
     "output_type": "stream",
     "text": [
      "C:\\Users\\JitendraBojja\\anaconda3\\lib\\site-packages\\sklearn\\model_selection\\_search.py:823: FutureWarning: The parameter 'iid' is deprecated in 0.22 and will be removed in 0.24.\n",
      "  \"removed in 0.24.\", FutureWarning\n",
      "C:\\Users\\JitendraBojja\\anaconda3\\lib\\site-packages\\sklearn\\model_selection\\_search.py:823: FutureWarning: The parameter 'iid' is deprecated in 0.22 and will be removed in 0.24.\n",
      "  \"removed in 0.24.\", FutureWarning\n"
     ]
    },
    {
     "name": "stdout",
     "output_type": "stream",
     "text": [
      "... saving model: models\\sl-eire-0_1.joblib\n"
     ]
    },
    {
     "name": "stderr",
     "output_type": "stream",
     "text": [
      "C:\\Users\\JitendraBojja\\anaconda3\\lib\\site-packages\\sklearn\\model_selection\\_search.py:823: FutureWarning: The parameter 'iid' is deprecated in 0.22 and will be removed in 0.24.\n",
      "  \"removed in 0.24.\", FutureWarning\n",
      "C:\\Users\\JitendraBojja\\anaconda3\\lib\\site-packages\\sklearn\\model_selection\\_search.py:823: FutureWarning: The parameter 'iid' is deprecated in 0.22 and will be removed in 0.24.\n",
      "  \"removed in 0.24.\", FutureWarning\n"
     ]
    },
    {
     "name": "stdout",
     "output_type": "stream",
     "text": [
      "... saving model: models\\sl-france-0_1.joblib\n"
     ]
    },
    {
     "name": "stderr",
     "output_type": "stream",
     "text": [
      "C:\\Users\\JitendraBojja\\anaconda3\\lib\\site-packages\\sklearn\\model_selection\\_search.py:823: FutureWarning: The parameter 'iid' is deprecated in 0.22 and will be removed in 0.24.\n",
      "  \"removed in 0.24.\", FutureWarning\n",
      "C:\\Users\\JitendraBojja\\anaconda3\\lib\\site-packages\\sklearn\\model_selection\\_search.py:823: FutureWarning: The parameter 'iid' is deprecated in 0.22 and will be removed in 0.24.\n",
      "  \"removed in 0.24.\", FutureWarning\n"
     ]
    },
    {
     "name": "stdout",
     "output_type": "stream",
     "text": [
      "... saving model: models\\sl-germany-0_1.joblib\n"
     ]
    },
    {
     "name": "stderr",
     "output_type": "stream",
     "text": [
      "C:\\Users\\JitendraBojja\\anaconda3\\lib\\site-packages\\sklearn\\model_selection\\_search.py:823: FutureWarning: The parameter 'iid' is deprecated in 0.22 and will be removed in 0.24.\n",
      "  \"removed in 0.24.\", FutureWarning\n",
      "C:\\Users\\JitendraBojja\\anaconda3\\lib\\site-packages\\sklearn\\model_selection\\_search.py:823: FutureWarning: The parameter 'iid' is deprecated in 0.22 and will be removed in 0.24.\n",
      "  \"removed in 0.24.\", FutureWarning\n"
     ]
    },
    {
     "name": "stdout",
     "output_type": "stream",
     "text": [
      "... saving model: models\\sl-hong_kong-0_1.joblib\n"
     ]
    },
    {
     "name": "stderr",
     "output_type": "stream",
     "text": [
      "C:\\Users\\JitendraBojja\\anaconda3\\lib\\site-packages\\sklearn\\model_selection\\_search.py:823: FutureWarning: The parameter 'iid' is deprecated in 0.22 and will be removed in 0.24.\n",
      "  \"removed in 0.24.\", FutureWarning\n",
      "C:\\Users\\JitendraBojja\\anaconda3\\lib\\site-packages\\sklearn\\model_selection\\_search.py:823: FutureWarning: The parameter 'iid' is deprecated in 0.22 and will be removed in 0.24.\n",
      "  \"removed in 0.24.\", FutureWarning\n"
     ]
    },
    {
     "name": "stdout",
     "output_type": "stream",
     "text": [
      "... saving model: models\\sl-netherlands-0_1.joblib\n"
     ]
    },
    {
     "name": "stderr",
     "output_type": "stream",
     "text": [
      "C:\\Users\\JitendraBojja\\anaconda3\\lib\\site-packages\\sklearn\\model_selection\\_search.py:823: FutureWarning: The parameter 'iid' is deprecated in 0.22 and will be removed in 0.24.\n",
      "  \"removed in 0.24.\", FutureWarning\n",
      "C:\\Users\\JitendraBojja\\anaconda3\\lib\\site-packages\\sklearn\\model_selection\\_search.py:823: FutureWarning: The parameter 'iid' is deprecated in 0.22 and will be removed in 0.24.\n",
      "  \"removed in 0.24.\", FutureWarning\n"
     ]
    },
    {
     "name": "stdout",
     "output_type": "stream",
     "text": [
      "... saving model: models\\sl-norway-0_1.joblib\n"
     ]
    },
    {
     "name": "stderr",
     "output_type": "stream",
     "text": [
      "C:\\Users\\JitendraBojja\\anaconda3\\lib\\site-packages\\sklearn\\model_selection\\_search.py:823: FutureWarning: The parameter 'iid' is deprecated in 0.22 and will be removed in 0.24.\n",
      "  \"removed in 0.24.\", FutureWarning\n",
      "C:\\Users\\JitendraBojja\\anaconda3\\lib\\site-packages\\sklearn\\model_selection\\_search.py:823: FutureWarning: The parameter 'iid' is deprecated in 0.22 and will be removed in 0.24.\n",
      "  \"removed in 0.24.\", FutureWarning\n"
     ]
    },
    {
     "name": "stdout",
     "output_type": "stream",
     "text": [
      "... saving model: models\\sl-portugal-0_1.joblib\n"
     ]
    },
    {
     "name": "stderr",
     "output_type": "stream",
     "text": [
      "C:\\Users\\JitendraBojja\\anaconda3\\lib\\site-packages\\sklearn\\model_selection\\_search.py:823: FutureWarning: The parameter 'iid' is deprecated in 0.22 and will be removed in 0.24.\n",
      "  \"removed in 0.24.\", FutureWarning\n",
      "C:\\Users\\JitendraBojja\\anaconda3\\lib\\site-packages\\sklearn\\model_selection\\_search.py:823: FutureWarning: The parameter 'iid' is deprecated in 0.22 and will be removed in 0.24.\n",
      "  \"removed in 0.24.\", FutureWarning\n"
     ]
    },
    {
     "name": "stdout",
     "output_type": "stream",
     "text": [
      "... saving model: models\\sl-singapore-0_1.joblib\n"
     ]
    },
    {
     "name": "stderr",
     "output_type": "stream",
     "text": [
      "C:\\Users\\JitendraBojja\\anaconda3\\lib\\site-packages\\sklearn\\model_selection\\_search.py:823: FutureWarning: The parameter 'iid' is deprecated in 0.22 and will be removed in 0.24.\n",
      "  \"removed in 0.24.\", FutureWarning\n",
      "C:\\Users\\JitendraBojja\\anaconda3\\lib\\site-packages\\sklearn\\model_selection\\_search.py:823: FutureWarning: The parameter 'iid' is deprecated in 0.22 and will be removed in 0.24.\n",
      "  \"removed in 0.24.\", FutureWarning\n"
     ]
    },
    {
     "name": "stdout",
     "output_type": "stream",
     "text": [
      "... saving model: models\\sl-spain-0_1.joblib\n"
     ]
    },
    {
     "name": "stderr",
     "output_type": "stream",
     "text": [
      "C:\\Users\\JitendraBojja\\anaconda3\\lib\\site-packages\\sklearn\\model_selection\\_search.py:823: FutureWarning: The parameter 'iid' is deprecated in 0.22 and will be removed in 0.24.\n",
      "  \"removed in 0.24.\", FutureWarning\n",
      "C:\\Users\\JitendraBojja\\anaconda3\\lib\\site-packages\\sklearn\\model_selection\\_search.py:823: FutureWarning: The parameter 'iid' is deprecated in 0.22 and will be removed in 0.24.\n",
      "  \"removed in 0.24.\", FutureWarning\n"
     ]
    },
    {
     "name": "stdout",
     "output_type": "stream",
     "text": [
      "... saving model: models\\sl-united_kingdom-0_1.joblib\n"
     ]
    }
   ],
   "source": [
    "model_train(data_dir)"
   ]
  },
  {
   "cell_type": "code",
   "execution_count": 127,
   "metadata": {},
   "outputs": [
    {
     "name": "stdout",
     "output_type": "stream",
     "text": [
      "... loading ts data from files\n",
      "2017-12-02\n"
     ]
    },
    {
     "data": {
      "text/plain": [
       "{'y_pred': array([3867.08]), 'y_proba': None}"
      ]
     },
     "execution_count": 127,
     "metadata": {},
     "output_type": "execute_result"
    }
   ],
   "source": [
    "model_predict('eire','2017','12','2')"
   ]
  },
  {
   "cell_type": "code",
   "execution_count": 129,
   "metadata": {},
   "outputs": [
    {
     "name": "stdout",
     "output_type": "stream",
     "text": [
      "Overwriting model2.py\n"
     ]
    }
   ],
   "source": [
    "%%writefile model2.py\n",
    "import time,os,re,csv,sys,uuid,joblib\n",
    "from datetime import date\n",
    "from collections import defaultdict\n",
    "import numpy as np\n",
    "import pandas as pd\n",
    "from sklearn import svm\n",
    "from sklearn.model_selection import train_test_split, GridSearchCV\n",
    "from sklearn.ensemble import RandomForestRegressor\n",
    "from sklearn.metrics import mean_squared_error\n",
    "from sklearn.preprocessing import StandardScaler, OneHotEncoder\n",
    "from sklearn.pipeline import Pipeline\n",
    "\n",
    "from logger2 import update_predict_log, update_train_log\n",
    "from dataingestion2 import fetch_ts, engineer_features\n",
    "\n",
    "## model specific variables (iterate the version and note with each change)\n",
    "MODEL_DIR = \"models\"\n",
    "MODEL_VERSION = 0.1\n",
    "MODEL_VERSION_NOTE = \"supervised learing model for time-series\"\n",
    "data_dir = '/Users/JitendraBojja/Downloads/Capstone_Project_JB/data_dir'\n",
    "\n",
    "def _model_train(df,tag,test=False):\n",
    "    \"\"\"\n",
    "    example funtion to train model\n",
    "    \n",
    "    The 'test' flag when set to 'True':\n",
    "        (1) subsets the data and serializes a test version\n",
    "        (2) specifies that the use of the 'test' log file \n",
    "    \"\"\"\n",
    "\n",
    "\n",
    "    ## start timer for runtime\n",
    "    time_start = time.time()\n",
    "    \n",
    "    X,y,dates = engineer_features(df)\n",
    "\n",
    "    if test:\n",
    "        n_samples = int(np.round(0.3 * X.shape[0]))\n",
    "        subset_indices = np.random.choice(np.arange(X.shape[0]),n_samples,\n",
    "                                          replace=False).astype(int)\n",
    "        mask = np.in1d(np.arange(y.size),subset_indices)\n",
    "        y=y[mask]\n",
    "        X=X[mask]\n",
    "        dates=dates[mask]\n",
    "        \n",
    "    ## Perform a train-test split\n",
    "    X_train, X_test, y_train, y_test = train_test_split(X, y, test_size=0.25,\n",
    "                                                        shuffle=True, random_state=42)\n",
    "    ## train a random forest model\n",
    "    param_grid_rf = {\n",
    "    'rf__criterion': ['mse','mae'],\n",
    "    'rf__n_estimators': [10,15,20,25]\n",
    "    }\n",
    "\n",
    "    pipe_rf = Pipeline(steps=[('scaler', StandardScaler()),\n",
    "                              ('rf', RandomForestRegressor())])\n",
    "    \n",
    "    grid = GridSearchCV(pipe_rf, param_grid=param_grid_rf, cv=5, iid=False, n_jobs=-1)\n",
    "    grid.fit(X_train, y_train)\n",
    "    y_pred = grid.predict(X_test)\n",
    "    eval_rmse =  round(np.sqrt(mean_squared_error(y_test,y_pred)))\n",
    "    \n",
    "    ## retrain using all data\n",
    "    grid.fit(X, y)\n",
    "    model_name = re.sub(\"\\.\",\"_\",str(MODEL_VERSION))\n",
    "    if test:\n",
    "        saved_model = os.path.join(MODEL_DIR,\n",
    "                                   \"test-{}-{}.joblib\".format(tag,model_name))\n",
    "        print(\"... saving test version of model: {}\".format(saved_model))\n",
    "    else:\n",
    "        saved_model = os.path.join(MODEL_DIR,\n",
    "                                   \"sl-{}-{}.joblib\".format(tag,model_name))\n",
    "        print(\"... saving model: {}\".format(saved_model))\n",
    "        \n",
    "    joblib.dump(grid,saved_model)\n",
    "\n",
    "    m, s = divmod(time.time()-time_start, 60)\n",
    "    h, m = divmod(m, 60)\n",
    "    runtime = \"%03d:%02d:%02d\"%(h, m, s)\n",
    "\n",
    "    ## update log\n",
    "    update_train_log(tag,(str(dates[0]),str(dates[-1])),{'rmse':eval_rmse},runtime,MODEL_VERSION, MODEL_VERSION_NOTE,test=test)\n",
    "  \n",
    "def model_train(data_dir,test=False):\n",
    "    \"\"\"\n",
    "    funtion to train model given a df\n",
    "    \n",
    "    'mode' -  can be used to subset data essentially simulating a train\n",
    "    \"\"\"\n",
    "    \n",
    "    if not os.path.isdir(MODEL_DIR):\n",
    "        os.mkdir(MODEL_DIR)\n",
    "\n",
    "    if test:\n",
    "        print(\"... test flag on\")\n",
    "        print(\"...... subseting data\")\n",
    "        print(\"...... subseting countries\")\n",
    "        \n",
    "    ## fetch time-series formatted data\n",
    "    ts_data = fetch_ts(data_dir)\n",
    "\n",
    "    ## train a different model for each data sets\n",
    "    for country,df in ts_data.items():\n",
    "        \n",
    "        if test and country not in ['all','united_kingdom']:\n",
    "            continue\n",
    "        \n",
    "        _model_train(df,country,test=test)\n",
    "    \n",
    "def model_load(prefix='sl',data_dir=None,training=True):\n",
    "    \"\"\"\n",
    "    example funtion to load model\n",
    "    \n",
    "    The prefix allows the loading of different models\n",
    "    \"\"\"\n",
    "\n",
    "    if not data_dir:\n",
    "        data_dir = '/Users/JitendraBojja/Downloads/Capstone_Project_JB/data_dir'\n",
    "    \n",
    "    models = [f for f in os.listdir(os.path.join(\".\",\"models\")) if re.search(\"sl\",f)]\n",
    "\n",
    "    if len(models) == 0:\n",
    "        raise Exception(\"Models with prefix '{}' cannot be found did you train?\".format(prefix))\n",
    "\n",
    "    all_models = {}\n",
    "    for model in models:\n",
    "        all_models[re.split(\"-\",model)[1]] = joblib.load(os.path.join(\".\",\"models\",model))\n",
    "\n",
    "    ## load data\n",
    "    ts_data = fetch_ts(data_dir)\n",
    "    all_data = {}\n",
    "    for country, df in ts_data.items():\n",
    "        X,y,dates = engineer_features(df,training=training)\n",
    "        dates = np.array([str(d) for d in dates])\n",
    "        all_data[country] = {\"X\":X,\"y\":y,\"dates\": dates}\n",
    "        \n",
    "    return(all_data, all_models)\n",
    "\n",
    "def model_predict(country,year,month,day,all_models=None,test=False):\n",
    "    \"\"\"\n",
    "    example funtion to predict from model\n",
    "    \"\"\"\n",
    "\n",
    "    ## start timer for runtime\n",
    "    time_start = time.time()\n",
    "\n",
    "    ## load model if needed\n",
    "    if not all_models:\n",
    "        all_data,all_models = model_load(training=False)\n",
    "    \n",
    "    ## input checks\n",
    "    if country not in all_models.keys():\n",
    "        raise Exception(\"ERROR (model_predict) - model for country '{}' could not be found\".format(country))\n",
    "\n",
    "    for d in [year,month,day]:\n",
    "        if re.search(\"\\D\",d):\n",
    "            raise Exception(\"ERROR (model_predict) - invalid year, month or day\")\n",
    "    \n",
    "    ## load data\n",
    "    model = all_models[country]\n",
    "    data = all_data[country]\n",
    "\n",
    "    ## check date\n",
    "    target_date = \"{}-{}-{}\".format(year,str(month).zfill(2),str(day).zfill(2))\n",
    "    print(target_date)\n",
    "\n",
    "    if target_date not in data['dates']:\n",
    "        raise Exception(\"ERROR (model_predict) - date {} not in range {}-{}\".format(target_date,\n",
    "                                                                                    data['dates'][0],\n",
    "                                                                                    data['dates'][-1]))\n",
    "    date_indx = np.where(data['dates'] == target_date)[0][0]\n",
    "    query = data['X'].iloc[[date_indx]]\n",
    "    \n",
    "    ## sainty check\n",
    "    if data['dates'].shape[0] != data['X'].shape[0]:\n",
    "        raise Exception(\"ERROR (model_predict) - dimensions mismatch\")\n",
    "\n",
    "    ## make prediction and gather data for log entry\n",
    "    y_pred = model.predict(query)\n",
    "    y_proba = None\n",
    "    if 'predict_proba' in dir(model) and 'probability' in dir(model):\n",
    "        if model.probability == True:\n",
    "            y_proba = model.predict_proba(query)\n",
    "\n",
    "\n",
    "    m, s = divmod(time.time()-time_start, 60)\n",
    "    h, m = divmod(m, 60)\n",
    "    runtime = \"%03d:%02d:%02d\"%(h, m, s)\n",
    "\n",
    "    ## update predict log\n",
    "    update_predict_log(country,y_pred,y_proba,target_date,runtime, MODEL_VERSION, test=test)\n",
    "    \n",
    "    return({'y_pred':y_pred,'y_proba':y_proba})\n",
    "\n",
    "if __name__ == \"__main__\":\n",
    "\n",
    "    \"\"\"\n",
    "    basic test procedure for model.py\n",
    "    \"\"\"\n",
    "\n",
    "    ## train the model\n",
    "    print(\"TRAINING MODELS\")\n",
    "    data_dir = os.path.join(\"..\",\"data_dir\")\n",
    "    model_train(data_dir,test=True)\n",
    "\n",
    "    ## load the model\n",
    "    print(\"LOADING MODELS\")\n",
    "    all_data, all_models = model_load()\n",
    "    print(\"... models loaded: \",\",\".join(all_models.keys()))\n",
    "\n",
    "    ## test predict\n",
    "    country='all'\n",
    "    year='2018'\n",
    "    month='01'\n",
    "    day='05'\n",
    "    result = model_predict(country,year,month,day)\n",
    "    print(result)\n"
   ]
  },
  {
   "cell_type": "code",
   "execution_count": 130,
   "metadata": {},
   "outputs": [
    {
     "name": "stdout",
     "output_type": "stream",
     "text": [
      "... loading ts data from files\n"
     ]
    },
    {
     "name": "stderr",
     "output_type": "stream",
     "text": [
      "C:\\Users\\JitendraBojja\\anaconda3\\lib\\site-packages\\sklearn\\model_selection\\_search.py:823: FutureWarning: The parameter 'iid' is deprecated in 0.22 and will be removed in 0.24.\n",
      "  \"removed in 0.24.\", FutureWarning\n",
      "C:\\Users\\JitendraBojja\\anaconda3\\lib\\site-packages\\sklearn\\model_selection\\_search.py:823: FutureWarning: The parameter 'iid' is deprecated in 0.22 and will be removed in 0.24.\n",
      "  \"removed in 0.24.\", FutureWarning\n"
     ]
    },
    {
     "name": "stdout",
     "output_type": "stream",
     "text": [
      "... saving model: models\\sl-all-0_1.joblib\n"
     ]
    },
    {
     "name": "stderr",
     "output_type": "stream",
     "text": [
      "C:\\Users\\JitendraBojja\\anaconda3\\lib\\site-packages\\sklearn\\model_selection\\_search.py:823: FutureWarning: The parameter 'iid' is deprecated in 0.22 and will be removed in 0.24.\n",
      "  \"removed in 0.24.\", FutureWarning\n",
      "C:\\Users\\JitendraBojja\\anaconda3\\lib\\site-packages\\sklearn\\model_selection\\_search.py:823: FutureWarning: The parameter 'iid' is deprecated in 0.22 and will be removed in 0.24.\n",
      "  \"removed in 0.24.\", FutureWarning\n"
     ]
    },
    {
     "name": "stdout",
     "output_type": "stream",
     "text": [
      "... saving model: models\\sl-eire-0_1.joblib\n"
     ]
    },
    {
     "name": "stderr",
     "output_type": "stream",
     "text": [
      "C:\\Users\\JitendraBojja\\anaconda3\\lib\\site-packages\\sklearn\\model_selection\\_search.py:823: FutureWarning: The parameter 'iid' is deprecated in 0.22 and will be removed in 0.24.\n",
      "  \"removed in 0.24.\", FutureWarning\n",
      "C:\\Users\\JitendraBojja\\anaconda3\\lib\\site-packages\\sklearn\\model_selection\\_search.py:823: FutureWarning: The parameter 'iid' is deprecated in 0.22 and will be removed in 0.24.\n",
      "  \"removed in 0.24.\", FutureWarning\n"
     ]
    },
    {
     "name": "stdout",
     "output_type": "stream",
     "text": [
      "... saving model: models\\sl-france-0_1.joblib\n"
     ]
    },
    {
     "name": "stderr",
     "output_type": "stream",
     "text": [
      "C:\\Users\\JitendraBojja\\anaconda3\\lib\\site-packages\\sklearn\\model_selection\\_search.py:823: FutureWarning: The parameter 'iid' is deprecated in 0.22 and will be removed in 0.24.\n",
      "  \"removed in 0.24.\", FutureWarning\n",
      "C:\\Users\\JitendraBojja\\anaconda3\\lib\\site-packages\\sklearn\\model_selection\\_search.py:823: FutureWarning: The parameter 'iid' is deprecated in 0.22 and will be removed in 0.24.\n",
      "  \"removed in 0.24.\", FutureWarning\n"
     ]
    },
    {
     "name": "stdout",
     "output_type": "stream",
     "text": [
      "... saving model: models\\sl-germany-0_1.joblib\n"
     ]
    },
    {
     "name": "stderr",
     "output_type": "stream",
     "text": [
      "C:\\Users\\JitendraBojja\\anaconda3\\lib\\site-packages\\sklearn\\model_selection\\_search.py:823: FutureWarning: The parameter 'iid' is deprecated in 0.22 and will be removed in 0.24.\n",
      "  \"removed in 0.24.\", FutureWarning\n",
      "C:\\Users\\JitendraBojja\\anaconda3\\lib\\site-packages\\sklearn\\model_selection\\_search.py:823: FutureWarning: The parameter 'iid' is deprecated in 0.22 and will be removed in 0.24.\n",
      "  \"removed in 0.24.\", FutureWarning\n"
     ]
    },
    {
     "name": "stdout",
     "output_type": "stream",
     "text": [
      "... saving model: models\\sl-hong_kong-0_1.joblib\n"
     ]
    },
    {
     "name": "stderr",
     "output_type": "stream",
     "text": [
      "C:\\Users\\JitendraBojja\\anaconda3\\lib\\site-packages\\sklearn\\model_selection\\_search.py:823: FutureWarning: The parameter 'iid' is deprecated in 0.22 and will be removed in 0.24.\n",
      "  \"removed in 0.24.\", FutureWarning\n",
      "C:\\Users\\JitendraBojja\\anaconda3\\lib\\site-packages\\sklearn\\model_selection\\_search.py:823: FutureWarning: The parameter 'iid' is deprecated in 0.22 and will be removed in 0.24.\n",
      "  \"removed in 0.24.\", FutureWarning\n"
     ]
    },
    {
     "name": "stdout",
     "output_type": "stream",
     "text": [
      "... saving model: models\\sl-netherlands-0_1.joblib\n"
     ]
    },
    {
     "name": "stderr",
     "output_type": "stream",
     "text": [
      "C:\\Users\\JitendraBojja\\anaconda3\\lib\\site-packages\\sklearn\\model_selection\\_search.py:823: FutureWarning: The parameter 'iid' is deprecated in 0.22 and will be removed in 0.24.\n",
      "  \"removed in 0.24.\", FutureWarning\n",
      "C:\\Users\\JitendraBojja\\anaconda3\\lib\\site-packages\\sklearn\\model_selection\\_search.py:823: FutureWarning: The parameter 'iid' is deprecated in 0.22 and will be removed in 0.24.\n",
      "  \"removed in 0.24.\", FutureWarning\n"
     ]
    },
    {
     "name": "stdout",
     "output_type": "stream",
     "text": [
      "... saving model: models\\sl-norway-0_1.joblib\n"
     ]
    },
    {
     "name": "stderr",
     "output_type": "stream",
     "text": [
      "C:\\Users\\JitendraBojja\\anaconda3\\lib\\site-packages\\sklearn\\model_selection\\_search.py:823: FutureWarning: The parameter 'iid' is deprecated in 0.22 and will be removed in 0.24.\n",
      "  \"removed in 0.24.\", FutureWarning\n",
      "C:\\Users\\JitendraBojja\\anaconda3\\lib\\site-packages\\sklearn\\model_selection\\_search.py:823: FutureWarning: The parameter 'iid' is deprecated in 0.22 and will be removed in 0.24.\n",
      "  \"removed in 0.24.\", FutureWarning\n"
     ]
    },
    {
     "name": "stdout",
     "output_type": "stream",
     "text": [
      "... saving model: models\\sl-portugal-0_1.joblib\n"
     ]
    },
    {
     "name": "stderr",
     "output_type": "stream",
     "text": [
      "C:\\Users\\JitendraBojja\\anaconda3\\lib\\site-packages\\sklearn\\model_selection\\_search.py:823: FutureWarning: The parameter 'iid' is deprecated in 0.22 and will be removed in 0.24.\n",
      "  \"removed in 0.24.\", FutureWarning\n",
      "C:\\Users\\JitendraBojja\\anaconda3\\lib\\site-packages\\sklearn\\model_selection\\_search.py:823: FutureWarning: The parameter 'iid' is deprecated in 0.22 and will be removed in 0.24.\n",
      "  \"removed in 0.24.\", FutureWarning\n"
     ]
    },
    {
     "name": "stdout",
     "output_type": "stream",
     "text": [
      "... saving model: models\\sl-singapore-0_1.joblib\n"
     ]
    },
    {
     "name": "stderr",
     "output_type": "stream",
     "text": [
      "C:\\Users\\JitendraBojja\\anaconda3\\lib\\site-packages\\sklearn\\model_selection\\_search.py:823: FutureWarning: The parameter 'iid' is deprecated in 0.22 and will be removed in 0.24.\n",
      "  \"removed in 0.24.\", FutureWarning\n",
      "C:\\Users\\JitendraBojja\\anaconda3\\lib\\site-packages\\sklearn\\model_selection\\_search.py:823: FutureWarning: The parameter 'iid' is deprecated in 0.22 and will be removed in 0.24.\n",
      "  \"removed in 0.24.\", FutureWarning\n"
     ]
    },
    {
     "name": "stdout",
     "output_type": "stream",
     "text": [
      "... saving model: models\\sl-spain-0_1.joblib\n"
     ]
    },
    {
     "name": "stderr",
     "output_type": "stream",
     "text": [
      "C:\\Users\\JitendraBojja\\anaconda3\\lib\\site-packages\\sklearn\\model_selection\\_search.py:823: FutureWarning: The parameter 'iid' is deprecated in 0.22 and will be removed in 0.24.\n",
      "  \"removed in 0.24.\", FutureWarning\n"
     ]
    },
    {
     "name": "stdout",
     "output_type": "stream",
     "text": [
      "... saving model: models\\sl-united_kingdom-0_1.joblib\n"
     ]
    },
    {
     "name": "stderr",
     "output_type": "stream",
     "text": [
      "C:\\Users\\JitendraBojja\\anaconda3\\lib\\site-packages\\sklearn\\model_selection\\_search.py:823: FutureWarning: The parameter 'iid' is deprecated in 0.22 and will be removed in 0.24.\n",
      "  \"removed in 0.24.\", FutureWarning\n"
     ]
    }
   ],
   "source": [
    "model_train(data_dir)"
   ]
  },
  {
   "cell_type": "code",
   "execution_count": 143,
   "metadata": {},
   "outputs": [],
   "source": [
    "test = sys.path.insert(0, os.getcwd())"
   ]
  },
  {
   "cell_type": "code",
   "execution_count": 144,
   "metadata": {},
   "outputs": [
    {
     "name": "stdout",
     "output_type": "stream",
     "text": [
      "None\n"
     ]
    }
   ],
   "source": [
    "print(test)"
   ]
  },
  {
   "cell_type": "code",
   "execution_count": 145,
   "metadata": {},
   "outputs": [
    {
     "name": "stdout",
     "output_type": "stream",
     "text": [
      "TRAINING MODELS\n",
      "... test flag on\n",
      "...... subseting data\n",
      "...... subseting countries\n",
      "... loading ts data from files\n",
      "... saving test version of model: models\\test-all-0_1.joblib\n",
      "... saving test version of model: models\\test-united_kingdom-0_1.joblib\n",
      "LOADING MODELS\n",
      "... loading ts data from files\n",
      "... models loaded:  all,eire,france,germany,hong_kong,netherlands,norway,portugal,singapore,spain,united_kingdom\n",
      "... loading ts data from files\n",
      "2018-01-05\n",
      "{'y_pred': array([182592.5223]), 'y_proba': None}\n"
     ]
    },
    {
     "name": "stderr",
     "output_type": "stream",
     "text": [
      "C:\\Users\\JitendraBojja\\anaconda3\\lib\\site-packages\\sklearn\\model_selection\\_search.py:823: FutureWarning: The parameter 'iid' is deprecated in 0.22 and will be removed in 0.24.\n",
      "  \"removed in 0.24.\", FutureWarning\n",
      "C:\\Users\\JitendraBojja\\anaconda3\\lib\\site-packages\\sklearn\\model_selection\\_search.py:823: FutureWarning: The parameter 'iid' is deprecated in 0.22 and will be removed in 0.24.\n",
      "  \"removed in 0.24.\", FutureWarning\n",
      "C:\\Users\\JitendraBojja\\anaconda3\\lib\\site-packages\\sklearn\\model_selection\\_search.py:823: FutureWarning: The parameter 'iid' is deprecated in 0.22 and will be removed in 0.24.\n",
      "  \"removed in 0.24.\", FutureWarning\n",
      "C:\\Users\\JitendraBojja\\anaconda3\\lib\\site-packages\\sklearn\\model_selection\\_search.py:823: FutureWarning: The parameter 'iid' is deprecated in 0.22 and will be removed in 0.24.\n",
      "  \"removed in 0.24.\", FutureWarning\n"
     ]
    }
   ],
   "source": [
    "!python model2.py"
   ]
  },
  {
   "cell_type": "code",
   "execution_count": 178,
   "metadata": {},
   "outputs": [
    {
     "name": "stdout",
     "output_type": "stream",
     "text": [
      "Overwriting ModelTests.py\n"
     ]
    }
   ],
   "source": [
    "%%writefile ModelTests.py\n",
    "#!/usr/bin/env python\n",
    "\"\"\"\n",
    "model tests\n",
    "\"\"\"\n",
    "\n",
    "import sys, os\n",
    "import unittest\n",
    "localpath = os.path.abspath('')\n",
    "data_dir = os.path.join(localpath,\"data_dir\")\n",
    "sys.path.insert(0, localpath)\n",
    "\n",
    "## import model specific functions and variables\n",
    "from model2 import *\n",
    "\n",
    "\n",
    "\n",
    "\n",
    "class ModelTest(unittest.TestCase):\n",
    "    \"\"\"\n",
    "    test the essential functionality\n",
    "    \"\"\"\n",
    "        \n",
    "    def test_01_train(self):\n",
    "        \"\"\"\n",
    "        test the train functionality\n",
    "        \"\"\"\n",
    "\n",
    "        ## train the model\n",
    "        model_train(data_dir,test=True)\n",
    "        self.assertTrue(os.path.exists(os.path.join(\"models\", \"test-all-0_1.joblib\")))\n",
    "\n",
    "    def test_02_load(self):\n",
    "        \"\"\"\n",
    "        test the train functionality\n",
    "        \"\"\"\n",
    "                        \n",
    "        ## train the model\n",
    "        alldata,allmodels = model_load()\n",
    "        \n",
    "        self.assertTrue('predict' in dir(allmodels['all']))\n",
    "        self.assertTrue('fit' in dir(allmodels['all']))\n",
    "\n",
    "       \n",
    "    def test_03_predict(self):\n",
    "        \"\"\"\n",
    "        test the predict function input\n",
    "        \"\"\"\n",
    "\n",
    "        ## load model first\n",
    "        ##model = model_load(test=True)\n",
    "    \n",
    "        ## ensure that a list can be passed\n",
    "        country='all'\n",
    "        year='2018'\n",
    "        month='01'\n",
    "        day='05'\n",
    "        result = model_predict(country,year,month,day)\n",
    "        y_pred = result['y_pred']\n",
    "        self.assertTrue(y_pred[0]>0)\n",
    "### Run the tests\n",
    "if __name__ == '__main__':\n",
    "    unittest.main()"
   ]
  },
  {
   "cell_type": "code",
   "execution_count": 197,
   "metadata": {},
   "outputs": [
    {
     "name": "stdout",
     "output_type": "stream",
     "text": [
      "... test flag on\n",
      "...... subseting data\n",
      "...... subseting countries\n",
      "... loading ts data from files\n",
      "... saving test version of model: models\\test-all-0_1.joblib\n",
      "... saving test version of model: models\\test-united_kingdom-0_1.joblib\n",
      "... loading ts data from files\n",
      "... loading ts data from files\n",
      "2018-01-05\n"
     ]
    },
    {
     "name": "stderr",
     "output_type": "stream",
     "text": [
      "C:\\Users\\JitendraBojja\\anaconda3\\lib\\site-packages\\sklearn\\model_selection\\_search.py:823: FutureWarning: The parameter 'iid' is deprecated in 0.22 and will be removed in 0.24.\n",
      "  \"removed in 0.24.\", FutureWarning\n",
      "C:\\Users\\JitendraBojja\\anaconda3\\lib\\site-packages\\sklearn\\model_selection\\_search.py:823: FutureWarning: The parameter 'iid' is deprecated in 0.22 and will be removed in 0.24.\n",
      "  \"removed in 0.24.\", FutureWarning\n",
      "C:\\Users\\JitendraBojja\\anaconda3\\lib\\site-packages\\sklearn\\model_selection\\_search.py:823: FutureWarning: The parameter 'iid' is deprecated in 0.22 and will be removed in 0.24.\n",
      "  \"removed in 0.24.\", FutureWarning\n",
      "C:\\Users\\JitendraBojja\\anaconda3\\lib\\site-packages\\sklearn\\model_selection\\_search.py:823: FutureWarning: The parameter 'iid' is deprecated in 0.22 and will be removed in 0.24.\n",
      "  \"removed in 0.24.\", FutureWarning\n",
      "...\n",
      "----------------------------------------------------------------------\n",
      "Ran 3 tests in 82.573s\n",
      "\n",
      "OK\n"
     ]
    }
   ],
   "source": [
    "!python ./unittests/ModelTests.py"
   ]
  },
  {
   "cell_type": "code",
   "execution_count": 208,
   "metadata": {},
   "outputs": [
    {
     "name": "stderr",
     "output_type": "stream",
     "text": [
      "....\n",
      "----------------------------------------------------------------------\n",
      "Ran 4 tests in 0.030s\n",
      "\n",
      "OK\n"
     ]
    }
   ],
   "source": [
    "!python ./unittests/LoggerTests.py"
   ]
  },
  {
   "cell_type": "code",
   "execution_count": 136,
   "metadata": {},
   "outputs": [
    {
     "ename": "FileNotFoundError",
     "evalue": "[WinError 3] The system cannot find the path specified: '..\\\\data\\\\cs-train\\\\ts-data'",
     "output_type": "error",
     "traceback": [
      "\u001b[1;31m---------------------------------------------------------------------------\u001b[0m",
      "\u001b[1;31mFileNotFoundError\u001b[0m                         Traceback (most recent call last)",
      "\u001b[1;32m<ipython-input-136-dc43677e63e2>\u001b[0m in \u001b[0;36m<module>\u001b[1;34m\u001b[0m\n\u001b[0;32m      4\u001b[0m \u001b[0mmonth\u001b[0m\u001b[1;33m=\u001b[0m\u001b[1;34m'01'\u001b[0m\u001b[1;33m\u001b[0m\u001b[1;33m\u001b[0m\u001b[0m\n\u001b[0;32m      5\u001b[0m \u001b[0mday\u001b[0m\u001b[1;33m=\u001b[0m\u001b[1;34m'05'\u001b[0m\u001b[1;33m\u001b[0m\u001b[1;33m\u001b[0m\u001b[0m\n\u001b[1;32m----> 6\u001b[1;33m \u001b[0mresult\u001b[0m \u001b[1;33m=\u001b[0m \u001b[0mmodel_predict\u001b[0m\u001b[1;33m(\u001b[0m\u001b[0mcountry\u001b[0m\u001b[1;33m,\u001b[0m\u001b[0myear\u001b[0m\u001b[1;33m,\u001b[0m\u001b[0mmonth\u001b[0m\u001b[1;33m,\u001b[0m\u001b[0mday\u001b[0m\u001b[1;33m)\u001b[0m\u001b[1;33m\u001b[0m\u001b[1;33m\u001b[0m\u001b[0m\n\u001b[0m\u001b[0;32m      7\u001b[0m \u001b[0my_pred\u001b[0m \u001b[1;33m=\u001b[0m \u001b[0mround\u001b[0m\u001b[1;33m(\u001b[0m\u001b[0mresult\u001b[0m\u001b[1;33m[\u001b[0m\u001b[1;34m'y_pred'\u001b[0m\u001b[1;33m]\u001b[0m\u001b[1;33m)\u001b[0m\u001b[1;33m\u001b[0m\u001b[1;33m\u001b[0m\u001b[0m\n",
      "\u001b[1;32m~\\Downloads\\Capstone_Project_JB\\model2.py\u001b[0m in \u001b[0;36mmodel_predict\u001b[1;34m(country, year, month, day, all_models, test)\u001b[0m\n\u001b[0;32m    146\u001b[0m \u001b[1;33m\u001b[0m\u001b[0m\n\u001b[0;32m    147\u001b[0m     \u001b[1;31m## load model if needed\u001b[0m\u001b[1;33m\u001b[0m\u001b[1;33m\u001b[0m\u001b[1;33m\u001b[0m\u001b[0m\n\u001b[1;32m--> 148\u001b[1;33m     \u001b[1;32mif\u001b[0m \u001b[1;32mnot\u001b[0m \u001b[0mall_models\u001b[0m\u001b[1;33m:\u001b[0m\u001b[1;33m\u001b[0m\u001b[1;33m\u001b[0m\u001b[0m\n\u001b[0m\u001b[0;32m    149\u001b[0m         \u001b[0mall_data\u001b[0m\u001b[1;33m,\u001b[0m\u001b[0mall_models\u001b[0m \u001b[1;33m=\u001b[0m \u001b[0mmodel_load\u001b[0m\u001b[1;33m(\u001b[0m\u001b[0mtraining\u001b[0m\u001b[1;33m=\u001b[0m\u001b[1;32mFalse\u001b[0m\u001b[1;33m)\u001b[0m\u001b[1;33m\u001b[0m\u001b[1;33m\u001b[0m\u001b[0m\n\u001b[0;32m    150\u001b[0m \u001b[1;33m\u001b[0m\u001b[0m\n",
      "\u001b[1;32m~\\Downloads\\Capstone_Project_JB\\model2.py\u001b[0m in \u001b[0;36mmodel_load\u001b[1;34m(prefix, data_dir, training)\u001b[0m\n\u001b[0;32m    127\u001b[0m         \u001b[0mall_models\u001b[0m\u001b[1;33m[\u001b[0m\u001b[0mre\u001b[0m\u001b[1;33m.\u001b[0m\u001b[0msplit\u001b[0m\u001b[1;33m(\u001b[0m\u001b[1;34m\"-\"\u001b[0m\u001b[1;33m,\u001b[0m\u001b[0mmodel\u001b[0m\u001b[1;33m)\u001b[0m\u001b[1;33m[\u001b[0m\u001b[1;36m1\u001b[0m\u001b[1;33m]\u001b[0m\u001b[1;33m]\u001b[0m \u001b[1;33m=\u001b[0m \u001b[0mjoblib\u001b[0m\u001b[1;33m.\u001b[0m\u001b[0mload\u001b[0m\u001b[1;33m(\u001b[0m\u001b[0mos\u001b[0m\u001b[1;33m.\u001b[0m\u001b[0mpath\u001b[0m\u001b[1;33m.\u001b[0m\u001b[0mjoin\u001b[0m\u001b[1;33m(\u001b[0m\u001b[1;34m\".\"\u001b[0m\u001b[1;33m,\u001b[0m\u001b[1;34m\"models\"\u001b[0m\u001b[1;33m,\u001b[0m\u001b[0mmodel\u001b[0m\u001b[1;33m)\u001b[0m\u001b[1;33m)\u001b[0m\u001b[1;33m\u001b[0m\u001b[1;33m\u001b[0m\u001b[0m\n\u001b[0;32m    128\u001b[0m \u001b[1;33m\u001b[0m\u001b[0m\n\u001b[1;32m--> 129\u001b[1;33m     \u001b[1;31m## load data\u001b[0m\u001b[1;33m\u001b[0m\u001b[1;33m\u001b[0m\u001b[1;33m\u001b[0m\u001b[0m\n\u001b[0m\u001b[0;32m    130\u001b[0m     \u001b[0mts_data\u001b[0m \u001b[1;33m=\u001b[0m \u001b[0mfetch_ts\u001b[0m\u001b[1;33m(\u001b[0m\u001b[0mdata_dir\u001b[0m\u001b[1;33m)\u001b[0m\u001b[1;33m\u001b[0m\u001b[1;33m\u001b[0m\u001b[0m\n\u001b[0;32m    131\u001b[0m     \u001b[0mall_data\u001b[0m \u001b[1;33m=\u001b[0m \u001b[1;33m{\u001b[0m\u001b[1;33m}\u001b[0m\u001b[1;33m\u001b[0m\u001b[1;33m\u001b[0m\u001b[0m\n",
      "\u001b[1;32m~\\Downloads\\Capstone_Project_JB\\dataingestion.py\u001b[0m in \u001b[0;36mfetch_ts\u001b[1;34m(data_dir, clean)\u001b[0m\n",
      "\u001b[1;31mFileNotFoundError\u001b[0m: [WinError 3] The system cannot find the path specified: '..\\\\data\\\\cs-train\\\\ts-data'"
     ]
    }
   ],
   "source": [
    "from model2 import *\n",
    "country='all'\n",
    "year='2018'\n",
    "month='01'\n",
    "day='05'\n",
    "result = model_predict(country,year,month,day)\n",
    "y_pred = round(result['y_pred'])"
   ]
  },
  {
   "cell_type": "code",
   "execution_count": 152,
   "metadata": {},
   "outputs": [
    {
     "ename": "NameError",
     "evalue": "name '__file__' is not defined",
     "output_type": "error",
     "traceback": [
      "\u001b[1;31m---------------------------------------------------------------------------\u001b[0m",
      "\u001b[1;31mNameError\u001b[0m                                 Traceback (most recent call last)",
      "\u001b[1;32m<ipython-input-152-0d739c9d2e06>\u001b[0m in \u001b[0;36m<module>\u001b[1;34m\u001b[0m\n\u001b[0;32m      1\u001b[0m \u001b[1;32mimport\u001b[0m \u001b[0mos\u001b[0m\u001b[1;33m\u001b[0m\u001b[1;33m\u001b[0m\u001b[0m\n\u001b[0;32m      2\u001b[0m \u001b[1;32mimport\u001b[0m \u001b[0msys\u001b[0m\u001b[1;33m\u001b[0m\u001b[1;33m\u001b[0m\u001b[0m\n\u001b[1;32m----> 3\u001b[1;33m \u001b[0mbase_dir\u001b[0m \u001b[1;33m=\u001b[0m \u001b[0mos\u001b[0m\u001b[1;33m.\u001b[0m\u001b[0mpath\u001b[0m\u001b[1;33m.\u001b[0m\u001b[0mdirname\u001b[0m\u001b[1;33m(\u001b[0m\u001b[0m__file__\u001b[0m\u001b[1;33m)\u001b[0m \u001b[1;32mor\u001b[0m \u001b[1;34m'.'\u001b[0m\u001b[1;33m\u001b[0m\u001b[1;33m\u001b[0m\u001b[0m\n\u001b[0m\u001b[0;32m      4\u001b[0m \u001b[0mprint\u001b[0m \u001b[1;33m(\u001b[0m\u001b[1;34m'Base directory:'\u001b[0m\u001b[1;33m,\u001b[0m \u001b[0mbase_dir\u001b[0m\u001b[1;33m)\u001b[0m\u001b[1;33m\u001b[0m\u001b[1;33m\u001b[0m\u001b[0m\n",
      "\u001b[1;31mNameError\u001b[0m: name '__file__' is not defined"
     ]
    }
   ],
   "source": [
    "import os\n",
    "import sys\n",
    "base_dir = os.path.dirname(__file__) or '.'\n",
    "print ('Base directory:', base_dir)"
   ]
  },
  {
   "cell_type": "code",
   "execution_count": 155,
   "metadata": {},
   "outputs": [
    {
     "name": "stdout",
     "output_type": "stream",
     "text": [
      "C:\\Users\\JitendraBojja\\Downloads\\Capstone_Project_JB\n"
     ]
    }
   ],
   "source": [
    "test11 = os.path.abspath('')\n",
    "print(test11)"
   ]
  },
  {
   "cell_type": "code",
   "execution_count": 163,
   "metadata": {},
   "outputs": [
    {
     "name": "stdout",
     "output_type": "stream",
     "text": [
      "C:\\Users\\JitendraBojja\\Downloads\\Capstone_Project_JB\\data_dir\n"
     ]
    }
   ],
   "source": [
    "localpath = os.path.abspath('')\n",
    "data_dir = os.path.join(localpath,\"data_dir\")\n",
    "print(data_dir)"
   ]
  },
  {
   "cell_type": "code",
   "execution_count": 171,
   "metadata": {},
   "outputs": [
    {
     "ename": "FileNotFoundError",
     "evalue": "[WinError 3] The system cannot find the path specified: '..\\\\data\\\\cs-train\\\\ts-data'",
     "output_type": "error",
     "traceback": [
      "\u001b[1;31m---------------------------------------------------------------------------\u001b[0m",
      "\u001b[1;31mFileNotFoundError\u001b[0m                         Traceback (most recent call last)",
      "\u001b[1;32m<ipython-input-171-9239ac84e4e9>\u001b[0m in \u001b[0;36m<module>\u001b[1;34m\u001b[0m\n\u001b[0;32m      2\u001b[0m \u001b[0mlocalpath\u001b[0m \u001b[1;33m=\u001b[0m \u001b[0mos\u001b[0m\u001b[1;33m.\u001b[0m\u001b[0mpath\u001b[0m\u001b[1;33m.\u001b[0m\u001b[0mabspath\u001b[0m\u001b[1;33m(\u001b[0m\u001b[1;34m''\u001b[0m\u001b[1;33m)\u001b[0m\u001b[1;33m\u001b[0m\u001b[1;33m\u001b[0m\u001b[0m\n\u001b[0;32m      3\u001b[0m \u001b[0mdata_dir\u001b[0m \u001b[1;33m=\u001b[0m \u001b[0mos\u001b[0m\u001b[1;33m.\u001b[0m\u001b[0mpath\u001b[0m\u001b[1;33m.\u001b[0m\u001b[0mjoin\u001b[0m\u001b[1;33m(\u001b[0m\u001b[0mlocalpath\u001b[0m\u001b[1;33m,\u001b[0m\u001b[1;34m\"data_dir\"\u001b[0m\u001b[1;33m)\u001b[0m\u001b[1;33m\u001b[0m\u001b[1;33m\u001b[0m\u001b[0m\n\u001b[1;32m----> 4\u001b[1;33m \u001b[0mmodelxx\u001b[0m \u001b[1;33m=\u001b[0m \u001b[0mmodel_load\u001b[0m\u001b[1;33m(\u001b[0m\u001b[1;33m)\u001b[0m\u001b[1;33m\u001b[0m\u001b[1;33m\u001b[0m\u001b[0m\n\u001b[0m\u001b[0;32m      5\u001b[0m \u001b[0mprint\u001b[0m\u001b[1;33m(\u001b[0m\u001b[0mmodelxx\u001b[0m\u001b[1;33m[\u001b[0m\u001b[1;34m'all'\u001b[0m\u001b[1;33m]\u001b[0m\u001b[1;33m)\u001b[0m\u001b[1;33m\u001b[0m\u001b[1;33m\u001b[0m\u001b[0m\n",
      "\u001b[1;32m~\\Downloads\\Capstone_Project_JB\\model2.py\u001b[0m in \u001b[0;36mmodel_load\u001b[1;34m(prefix, data_dir, training)\u001b[0m\n\u001b[0;32m    127\u001b[0m         \u001b[0mall_models\u001b[0m\u001b[1;33m[\u001b[0m\u001b[0mre\u001b[0m\u001b[1;33m.\u001b[0m\u001b[0msplit\u001b[0m\u001b[1;33m(\u001b[0m\u001b[1;34m\"-\"\u001b[0m\u001b[1;33m,\u001b[0m\u001b[0mmodel\u001b[0m\u001b[1;33m)\u001b[0m\u001b[1;33m[\u001b[0m\u001b[1;36m1\u001b[0m\u001b[1;33m]\u001b[0m\u001b[1;33m]\u001b[0m \u001b[1;33m=\u001b[0m \u001b[0mjoblib\u001b[0m\u001b[1;33m.\u001b[0m\u001b[0mload\u001b[0m\u001b[1;33m(\u001b[0m\u001b[0mos\u001b[0m\u001b[1;33m.\u001b[0m\u001b[0mpath\u001b[0m\u001b[1;33m.\u001b[0m\u001b[0mjoin\u001b[0m\u001b[1;33m(\u001b[0m\u001b[1;34m\".\"\u001b[0m\u001b[1;33m,\u001b[0m\u001b[1;34m\"models\"\u001b[0m\u001b[1;33m,\u001b[0m\u001b[0mmodel\u001b[0m\u001b[1;33m)\u001b[0m\u001b[1;33m)\u001b[0m\u001b[1;33m\u001b[0m\u001b[1;33m\u001b[0m\u001b[0m\n\u001b[0;32m    128\u001b[0m \u001b[1;33m\u001b[0m\u001b[0m\n\u001b[1;32m--> 129\u001b[1;33m     \u001b[1;31m## load data\u001b[0m\u001b[1;33m\u001b[0m\u001b[1;33m\u001b[0m\u001b[1;33m\u001b[0m\u001b[0m\n\u001b[0m\u001b[0;32m    130\u001b[0m     \u001b[0mts_data\u001b[0m \u001b[1;33m=\u001b[0m \u001b[0mfetch_ts\u001b[0m\u001b[1;33m(\u001b[0m\u001b[0mdata_dir\u001b[0m\u001b[1;33m)\u001b[0m\u001b[1;33m\u001b[0m\u001b[1;33m\u001b[0m\u001b[0m\n\u001b[0;32m    131\u001b[0m     \u001b[0mall_data\u001b[0m \u001b[1;33m=\u001b[0m \u001b[1;33m{\u001b[0m\u001b[1;33m}\u001b[0m\u001b[1;33m\u001b[0m\u001b[1;33m\u001b[0m\u001b[0m\n",
      "\u001b[1;32m~\\Downloads\\Capstone_Project_JB\\dataingestion.py\u001b[0m in \u001b[0;36mfetch_ts\u001b[1;34m(data_dir, clean)\u001b[0m\n",
      "\u001b[1;31mFileNotFoundError\u001b[0m: [WinError 3] The system cannot find the path specified: '..\\\\data\\\\cs-train\\\\ts-data'"
     ]
    }
   ],
   "source": [
    "from model2 import model_train,model_predict,model_load\n",
    "localpath = os.path.abspath('')\n",
    "data_dir = os.path.join(localpath,\"data_dir\")\n",
    "modelxx = model_load()\n",
    "print(modelxx['all'])\n"
   ]
  },
  {
   "cell_type": "code",
   "execution_count": 189,
   "metadata": {},
   "outputs": [],
   "source": [
    "from ast import literal_eval"
   ]
  },
  {
   "cell_type": "code",
   "execution_count": 206,
   "metadata": {},
   "outputs": [
    {
     "name": "stdout",
     "output_type": "stream",
     "text": [
      "0.05\n"
     ]
    }
   ],
   "source": [
    "log_file = os.path.join(\"logs\", \"train-test.log\")\n",
    "df = pd.read_csv(log_file)\n",
    "logged_eval_test = [i for i in df['eval_rmse'].copy()][-1]\n",
    "##testxxx = df['eval_rmse'].copy()\n",
    "print(logged_eval_test)"
   ]
  },
  {
   "cell_type": "code",
   "execution_count": 209,
   "metadata": {},
   "outputs": [
    {
     "name": "stdout",
     "output_type": "stream",
     "text": [
      "Writing run-tests.py\n"
     ]
    }
   ],
   "source": [
    "%%writefile run-tests.py\n",
    "import sys\n",
    "import unittest\n",
    "\n",
    "from unittests import *\n",
    "unittest.main()"
   ]
  },
  {
   "cell_type": "code",
   "execution_count": 1,
   "metadata": {},
   "outputs": [
    {
     "name": "stdout",
     "output_type": "stream",
     "text": [
      "... test flag on\n",
      "...... subseting data\n",
      "...... subseting countries\n",
      "... loading ts data from files\n",
      "... saving test version of model: models\\test-all-0_1.joblib\n",
      "... saving test version of model: models\\test-united_kingdom-0_1.joblib\n",
      "... loading ts data from files\n",
      "... loading ts data from files\n",
      "2018-01-05\n"
     ]
    },
    {
     "name": "stderr",
     "output_type": "stream",
     "text": [
      "....C:\\Users\\JitendraBojja\\anaconda3\\lib\\site-packages\\sklearn\\model_selection\\_search.py:823: FutureWarning: The parameter 'iid' is deprecated in 0.22 and will be removed in 0.24.\n",
      "  \"removed in 0.24.\", FutureWarning\n",
      "C:\\Users\\JitendraBojja\\anaconda3\\lib\\site-packages\\sklearn\\model_selection\\_search.py:823: FutureWarning: The parameter 'iid' is deprecated in 0.22 and will be removed in 0.24.\n",
      "  \"removed in 0.24.\", FutureWarning\n",
      "C:\\Users\\JitendraBojja\\anaconda3\\lib\\site-packages\\sklearn\\model_selection\\_search.py:823: FutureWarning: The parameter 'iid' is deprecated in 0.22 and will be removed in 0.24.\n",
      "  \"removed in 0.24.\", FutureWarning\n",
      "C:\\Users\\JitendraBojja\\anaconda3\\lib\\site-packages\\sklearn\\model_selection\\_search.py:823: FutureWarning: The parameter 'iid' is deprecated in 0.22 and will be removed in 0.24.\n",
      "  \"removed in 0.24.\", FutureWarning\n",
      "...\n",
      "----------------------------------------------------------------------\n",
      "Ran 7 tests in 237.348s\n",
      "\n",
      "OK\n"
     ]
    }
   ],
   "source": [
    "!python run-tests.py"
   ]
  },
  {
   "cell_type": "code",
   "execution_count": 2,
   "metadata": {},
   "outputs": [],
   "source": [
    "testxx = {'country':'unitedkingdom','year':2017,'month':11,'day':28, 'type':'dict'}"
   ]
  },
  {
   "cell_type": "code",
   "execution_count": 3,
   "metadata": {},
   "outputs": [
    {
     "name": "stdout",
     "output_type": "stream",
     "text": [
      "unitedkingdom\n"
     ]
    }
   ],
   "source": [
    "print(testxx['country'])"
   ]
  },
  {
   "cell_type": "code",
   "execution_count": 13,
   "metadata": {},
   "outputs": [
    {
     "name": "stderr",
     "output_type": "stream",
     "text": [
      "sss\n",
      "----------------------------------------------------------------------\n",
      "Ran 3 tests in 0.000s\n",
      "\n",
      "OK (skipped=3)\n"
     ]
    }
   ],
   "source": [
    "!python ./unittests/ApiTests.py"
   ]
  },
  {
   "cell_type": "code",
   "execution_count": 14,
   "metadata": {},
   "outputs": [
    {
     "name": "stdout",
     "output_type": "stream",
     "text": [
      "... test flag on\n",
      "...... subseting data\n",
      "...... subseting countries\n",
      "... loading ts data from files\n",
      "... saving test version of model: models\\test-all-0_1.joblib\n",
      "... saving test version of model: models\\test-united_kingdom-0_1.joblib\n",
      "... loading ts data from files\n",
      "... loading ts data from files\n",
      "2018-01-05\n"
     ]
    },
    {
     "name": "stderr",
     "output_type": "stream",
     "text": [
      ".......C:\\Users\\JitendraBojja\\anaconda3\\lib\\site-packages\\sklearn\\model_selection\\_search.py:823: FutureWarning: The parameter 'iid' is deprecated in 0.22 and will be removed in 0.24.\n",
      "  \"removed in 0.24.\", FutureWarning\n",
      "C:\\Users\\JitendraBojja\\anaconda3\\lib\\site-packages\\sklearn\\model_selection\\_search.py:823: FutureWarning: The parameter 'iid' is deprecated in 0.22 and will be removed in 0.24.\n",
      "  \"removed in 0.24.\", FutureWarning\n",
      "C:\\Users\\JitendraBojja\\anaconda3\\lib\\site-packages\\sklearn\\model_selection\\_search.py:823: FutureWarning: The parameter 'iid' is deprecated in 0.22 and will be removed in 0.24.\n",
      "  \"removed in 0.24.\", FutureWarning\n",
      "C:\\Users\\JitendraBojja\\anaconda3\\lib\\site-packages\\sklearn\\model_selection\\_search.py:823: FutureWarning: The parameter 'iid' is deprecated in 0.22 and will be removed in 0.24.\n",
      "  \"removed in 0.24.\", FutureWarning\n",
      "...\n",
      "----------------------------------------------------------------------\n",
      "Ran 10 tests in 126.532s\n",
      "\n",
      "OK\n"
     ]
    }
   ],
   "source": [
    "!python run-tests.py"
   ]
  }
 ],
 "metadata": {
  "kernelspec": {
   "display_name": "Python 3",
   "language": "python",
   "name": "python3"
  },
  "language_info": {
   "codemirror_mode": {
    "name": "ipython",
    "version": 3
   },
   "file_extension": ".py",
   "mimetype": "text/x-python",
   "name": "python",
   "nbconvert_exporter": "python",
   "pygments_lexer": "ipython3",
   "version": "3.7.6"
  }
 },
 "nbformat": 4,
 "nbformat_minor": 4
}
