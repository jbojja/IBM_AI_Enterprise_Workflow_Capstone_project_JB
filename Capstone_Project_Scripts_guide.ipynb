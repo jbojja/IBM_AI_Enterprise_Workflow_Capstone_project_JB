{
 "cells": [
  {
   "cell_type": "markdown",
   "metadata": {},
   "source": [
    "# Capstone Project scripts guidance notebook"
   ]
  },
  {
   "cell_type": "code",
   "execution_count": 2,
   "metadata": {},
   "outputs": [],
   "source": [
    "import os\n",
    "import sys\n",
    "import csv\n",
    "import requests\n",
    "from collections import Counter\n",
    "from datetime import date\n",
    "from ast import literal_eval\n",
    "import numpy as np\n",
    "import pandas as pd\n",
    "import matplotlib.pyplot as plt\n",
    "\n",
    "%matplotlib inline\n",
    "import json"
   ]
  },
  {
   "cell_type": "markdown",
   "metadata": {},
   "source": [
    "Sample model comparision between Random Forest Regressor and linear regression on all country data"
   ]
  },
  {
   "cell_type": "code",
   "execution_count": null,
   "metadata": {},
   "outputs": [],
   "source": [
    "## scri[pt to run the model comparision notebook\n",
    "!python model_comparision.py"
   ]
  },
  {
   "cell_type": "markdown",
   "metadata": {},
   "source": [
    "To run  all test scripts"
   ]
  },
  {
   "cell_type": "code",
   "execution_count": null,
   "metadata": {},
   "outputs": [],
   "source": [
    "!python run-tests.py"
   ]
  },
  {
   "cell_type": "markdown",
   "metadata": {},
   "source": [
    "Initialize Docker,build image and Run the docker"
   ]
  },
  {
   "cell_type": "markdown",
   "metadata": {},
   "source": [
    "Build the Docker image and run it\n",
    "Step one: build the image (from the directory that was created with this notebook)\n",
    "\n",
    "    ~$ cd docker-tutorial\n",
    "    ~$ docker build -t example-ml-app .\n",
    "Check that the image is there.\n",
    "\n",
    "    ~$ docker image ls\n",
    "You may notice images that you no longer use. You may delete them with\n",
    "\n",
    "    ~$ docker image rm IMAGE_ID_OR_NAME\n",
    "Run the container\n",
    "\n",
    "docker run -p 4000:8080 example-ml-app"
   ]
  },
  {
   "cell_type": "markdown",
   "metadata": {},
   "source": [
    "Test the Predict function"
   ]
  },
  {
   "cell_type": "code",
   "execution_count": null,
   "metadata": {},
   "outputs": [],
   "source": [
    "##sample input data\n",
    "X_query = {'country':'eire','year':'2017','month':'12','day':'5'}\n",
    "request_json = {'query':X_query,'type':'dict'}\n",
    "port = 4000\n",
    "r = requests.post('http://localhost:{}/predict'.format(port), json=request_json)\n",
    "response = json.loads(r.text)\n",
    "print(response['y_pred'])"
   ]
  },
  {
   "cell_type": "markdown",
   "metadata": {},
   "source": [
    "Test the Logging function"
   ]
  },
  {
   "cell_type": "code",
   "execution_count": null,
   "metadata": {},
   "outputs": [],
   "source": [
    "rlog = requests.get('http://localhost:4000/logs/train-test.log')\n",
    "print(rlog.text)"
   ]
  },
  {
   "cell_type": "markdown",
   "metadata": {},
   "source": [
    "Monitoring tools guide"
   ]
  },
  {
   "cell_type": "code",
   "execution_count": null,
   "metadata": {},
   "outputs": [],
   "source": [
    "from monitoring import get_latest_train_data,get_monitoring_tools"
   ]
  },
  {
   "cell_type": "code",
   "execution_count": null,
   "metadata": {},
   "outputs": [],
   "source": [
    "##latest training data ts_data set\n",
    "datamonitoring = get_latest_train_data()"
   ]
  },
  {
   "cell_type": "code",
   "execution_count": null,
   "metadata": {},
   "outputs": [],
   "source": [
    "##to get the monitoring tools required to identify outliers and wasserstein distances\n",
    "pm_tools = get_monitoring_tools(datamonitoring)\n",
    "print(pm_tools)"
   ]
  }
 ],
 "metadata": {
  "kernelspec": {
   "display_name": "Python 3",
   "language": "python",
   "name": "python3"
  },
  "language_info": {
   "codemirror_mode": {
    "name": "ipython",
    "version": 3
   },
   "file_extension": ".py",
   "mimetype": "text/x-python",
   "name": "python",
   "nbconvert_exporter": "python",
   "pygments_lexer": "ipython3",
   "version": "3.7.6"
  }
 },
 "nbformat": 4,
 "nbformat_minor": 4
}
